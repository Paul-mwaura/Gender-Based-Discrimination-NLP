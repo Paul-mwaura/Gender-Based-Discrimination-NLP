{
  "nbformat": 4,
  "nbformat_minor": 0,
  "metadata": {
    "colab": {
      "name": "GBV_Topic-Modelling.ipynb",
      "provenance": [],
      "authorship_tag": "ABX9TyMLPxaKccriW3b+boqVqvjn",
      "include_colab_link": true
    },
    "kernelspec": {
      "name": "python3",
      "display_name": "Python 3"
    },
    "language_info": {
      "name": "python"
    }
  },
  "cells": [
    {
      "cell_type": "markdown",
      "metadata": {
        "id": "view-in-github",
        "colab_type": "text"
      },
      "source": [
        "<a href=\"https://colab.research.google.com/github/Paul-mwaura/Gender-Based-Discrimination-NLP/blob/main/GBV_Topic_Modelling.ipynb\" target=\"_parent\"><img src=\"https://colab.research.google.com/assets/colab-badge.svg\" alt=\"Open In Colab\"/></a>"
      ]
    },
    {
      "cell_type": "markdown",
      "metadata": {
        "id": "_W2ieWZqXa6u"
      },
      "source": [
        "# Gender Based Violence Topic Modelling"
      ]
    },
    {
      "cell_type": "markdown",
      "metadata": {
        "id": "i2pA0ph3XgZi"
      },
      "source": [
        "## import the Libraries"
      ]
    },
    {
      "cell_type": "code",
      "metadata": {
        "id": "NuIRKxZsXSsX"
      },
      "source": [
        "import pandas as pd\n",
        "import numpy as np\n",
        "import matplotlib.pyplot as plt\n",
        "%matplotlib inline"
      ],
      "execution_count": 1,
      "outputs": []
    },
    {
      "cell_type": "markdown",
      "metadata": {
        "id": "pB9gb3-FXkIk"
      },
      "source": [
        "## Load the Dataset"
      ]
    },
    {
      "cell_type": "code",
      "metadata": {
        "id": "3dFgoEq_XwlQ"
      },
      "source": [
        "df = pd.read_csv(\"\")"
      ],
      "execution_count": null,
      "outputs": []
    }
  ]
}