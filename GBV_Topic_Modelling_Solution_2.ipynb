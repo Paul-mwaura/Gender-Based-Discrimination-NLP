{
  "nbformat": 4,
  "nbformat_minor": 0,
  "metadata": {
    "colab": {
      "name": "GBV_Topic-Modelling Solution 2.ipynb",
      "provenance": [],
      "collapsed_sections": [],
      "toc_visible": true,
      "authorship_tag": "ABX9TyPaYRO05HGgbbosemQDi9kR",
      "include_colab_link": true
    },
    "kernelspec": {
      "name": "python3",
      "display_name": "Python 3"
    },
    "language_info": {
      "name": "python"
    }
  },
  "cells": [
    {
      "cell_type": "markdown",
      "metadata": {
        "id": "view-in-github",
        "colab_type": "text"
      },
      "source": [
        "<a href=\"https://colab.research.google.com/github/Paul-mwaura/Gender-Based-Discrimination-NLP/blob/main/GBV_Topic_Modelling_Solution_2.ipynb\" target=\"_parent\"><img src=\"https://colab.research.google.com/assets/colab-badge.svg\" alt=\"Open In Colab\"/></a>"
      ]
    },
    {
      "cell_type": "markdown",
      "metadata": {
        "id": "t8OOZpk8Eczv"
      },
      "source": [
        "## GBV Topic Modelling Using LDA "
      ]
    },
    {
      "cell_type": "markdown",
      "metadata": {
        "id": "JTXpvMGTEi1t"
      },
      "source": [
        "### Business Understanding\n"
      ]
    },
    {
      "cell_type": "markdown",
      "metadata": {
        "id": "U9A8atpuEoBY"
      },
      "source": [
        "### Data Understanding"
      ]
    },
    {
      "cell_type": "markdown",
      "metadata": {
        "id": "cOhBPnjBEqD4"
      },
      "source": [
        "### Resources\n",
        "* Wikipedia: [Linear Discriminant Analysis](https://en.wikipedia.org/wiki/Linear_discriminant_analysis)\n",
        "* Machine Learning Plus: [Topic Modeling with Gensim (Python)](https://www.machinelearningplus.com/nlp/topic-modeling-gensim-python/)\n",
        "* Predictive Hacks: [LDA Topic Modelling With Gensim](https://)"
      ]
    },
    {
      "cell_type": "markdown",
      "metadata": {
        "id": "lp0kvmQ5EZlc"
      },
      "source": [
        "### Import Libraries"
      ]
    },
    {
      "cell_type": "code",
      "metadata": {
        "id": "xL5gb3jzaxWB"
      },
      "source": [
        "%%capture \n",
        "pip install pyLDAvis"
      ],
      "execution_count": 44,
      "outputs": []
    },
    {
      "cell_type": "code",
      "metadata": {
        "colab": {
          "base_uri": "https://localhost:8080/"
        },
        "id": "3806-VjnYrHB",
        "outputId": "3fa11deb-5dd3-44af-dc2a-9b5a2602bdf1"
      },
      "source": [
        "# Run in terminal or command prompt\n",
        "# python3 -m spacy download en\n",
        "import numpy as np\n",
        "import pandas as pd\n",
        "import re, nltk, spacy, gensim\n",
        "\n",
        "#stop-words\n",
        "nltk.download('punkt')\n",
        "nltk.download('stopwords')\n",
        "from nltk.corpus import stopwords\n",
        "stop_words=set(nltk.corpus.stopwords.words('english'))\n",
        "from nltk.stem.porter import *\n",
        "stemmer = PorterStemmer()\n",
        "\n",
        "# Sklearn\n",
        "from sklearn.decomposition import LatentDirichletAllocation, TruncatedSVD\n",
        "from sklearn.feature_extraction.text import CountVectorizer, TfidfVectorizer\n",
        "from sklearn.model_selection import GridSearchCV\n",
        "from pprint import pprint\n",
        "import csv\n",
        "# Plotting tools\n",
        "import pyLDAvis\n",
        "import pyLDAvis.sklearn\n",
        "import matplotlib.pyplot as plt\n",
        "%matplotlib inline"
      ],
      "execution_count": 45,
      "outputs": [
        {
          "output_type": "stream",
          "text": [
            "[nltk_data] Downloading package punkt to /root/nltk_data...\n",
            "[nltk_data]   Package punkt is already up-to-date!\n",
            "[nltk_data] Downloading package stopwords to /root/nltk_data...\n",
            "[nltk_data]   Package stopwords is already up-to-date!\n"
          ],
          "name": "stdout"
        }
      ]
    },
    {
      "cell_type": "markdown",
      "metadata": {
        "id": "UpNp62xSEXIa"
      },
      "source": [
        "### Load the Dataset"
      ]
    },
    {
      "cell_type": "code",
      "metadata": {
        "colab": {
          "base_uri": "https://localhost:8080/",
          "height": 479
        },
        "id": "U03PNDBwatrP",
        "outputId": "035a5917-f3fe-40be-f245-4b98ac47975c"
      },
      "source": [
        "df = pd.read_csv(\"/content/GBV_data_clean_v01.csv\", error_bad_lines=False)\n",
        "df.head()"
      ],
      "execution_count": 46,
      "outputs": [
        {
          "output_type": "stream",
          "text": [
            "/usr/local/lib/python3.7/dist-packages/IPython/core/interactiveshell.py:2882: FutureWarning: The error_bad_lines argument has been deprecated and will be removed in a future version.\n",
            "\n",
            "\n",
            "  exec(code_obj, self.user_global_ns, self.user_ns)\n"
          ],
          "name": "stderr"
        },
        {
          "output_type": "execute_result",
          "data": {
            "text/html": [
              "<div>\n",
              "<style scoped>\n",
              "    .dataframe tbody tr th:only-of-type {\n",
              "        vertical-align: middle;\n",
              "    }\n",
              "\n",
              "    .dataframe tbody tr th {\n",
              "        vertical-align: top;\n",
              "    }\n",
              "\n",
              "    .dataframe thead th {\n",
              "        text-align: right;\n",
              "    }\n",
              "</style>\n",
              "<table border=\"1\" class=\"dataframe\">\n",
              "  <thead>\n",
              "    <tr style=\"text-align: right;\">\n",
              "      <th></th>\n",
              "      <th>Unnamed: 0</th>\n",
              "      <th>username</th>\n",
              "      <th>new_tweets</th>\n",
              "      <th>clean_tweets</th>\n",
              "      <th>tweets_without_stopwords</th>\n",
              "      <th>replies</th>\n",
              "      <th>retweets</th>\n",
              "      <th>likes</th>\n",
              "    </tr>\n",
              "  </thead>\n",
              "  <tbody>\n",
              "    <tr>\n",
              "      <th>0</th>\n",
              "      <td>0</td>\n",
              "      <td>shaybspears</td>\n",
              "      <td>We should talk more about how this dangerous w...</td>\n",
              "      <td>we should talk more about how this dangerous w...</td>\n",
              "      <td>talk dangerous woman stalking britney sending ...</td>\n",
              "      <td>1</td>\n",
              "      <td>14</td>\n",
              "      <td>27</td>\n",
              "    </tr>\n",
              "    <tr>\n",
              "      <th>1</th>\n",
              "      <td>1</td>\n",
              "      <td>kaylanicole9991</td>\n",
              "      <td>And no, getting me drunk wonât work. After w...</td>\n",
              "      <td>and no getting me drunk won  t work after what...</td>\n",
              "      <td>getting drunk work happened male best friend j...</td>\n",
              "      <td>1</td>\n",
              "      <td>0</td>\n",
              "      <td>0</td>\n",
              "    </tr>\n",
              "    <tr>\n",
              "      <th>2</th>\n",
              "      <td>2</td>\n",
              "      <td>marge78355824</td>\n",
              "      <td>Itâs not just about seeing a random penis...</td>\n",
              "      <td>it  s not just about seeing a random penis ...</td>\n",
              "      <td>seeing random penis fear every woman sexual vi...</td>\n",
              "      <td>1</td>\n",
              "      <td>0</td>\n",
              "      <td>1</td>\n",
              "    </tr>\n",
              "    <tr>\n",
              "      <th>3</th>\n",
              "      <td>3</td>\n",
              "      <td>explorevenango</td>\n",
              "      <td>A Franklin woman who left multiple messages in...</td>\n",
              "      <td>a franklin woman who left multiple messages in...</td>\n",
              "      <td>franklin woman left multiple messages attempt ...</td>\n",
              "      <td>0</td>\n",
              "      <td>0</td>\n",
              "      <td>0</td>\n",
              "    </tr>\n",
              "    <tr>\n",
              "      <th>4</th>\n",
              "      <td>4</td>\n",
              "      <td>politikscommon</td>\n",
              "      <td>I did read the details. Walker was also sue...</td>\n",
              "      <td>i did read the details walker was also sued...</td>\n",
              "      <td>read details walker also sued woman accused wa...</td>\n",
              "      <td>1</td>\n",
              "      <td>0</td>\n",
              "      <td>0</td>\n",
              "    </tr>\n",
              "  </tbody>\n",
              "</table>\n",
              "</div>"
            ],
            "text/plain": [
              "   Unnamed: 0         username  ... retweets likes\n",
              "0           0      shaybspears  ...       14    27\n",
              "1           1  kaylanicole9991  ...        0     0\n",
              "2           2    marge78355824  ...        0     1\n",
              "3           3   explorevenango  ...        0     0\n",
              "4           4   politikscommon  ...        0     0\n",
              "\n",
              "[5 rows x 8 columns]"
            ]
          },
          "metadata": {
            "tags": []
          },
          "execution_count": 46
        }
      ]
    },
    {
      "cell_type": "code",
      "metadata": {
        "colab": {
          "base_uri": "https://localhost:8080/",
          "height": 52
        },
        "id": "sxNUd3b0cnuq",
        "outputId": "aa6a7356-a307-4da4-b36f-4c6937cfd582"
      },
      "source": [
        "df['clean_tweets'][2]"
      ],
      "execution_count": 47,
      "outputs": [
        {
          "output_type": "execute_result",
          "data": {
            "application/vnd.google.colaboratory.intrinsic+json": {
              "type": "string"
            },
            "text/plain": [
              "'   it  s not just about seeing a random penis it  s about the fear every woman has about sexual violence it  s about the fear every human should have about sexual assault on little girls i gua'"
            ]
          },
          "metadata": {
            "tags": []
          },
          "execution_count": 47
        }
      ]
    },
    {
      "cell_type": "markdown",
      "metadata": {
        "id": "KfP4OsJbEUKL"
      },
      "source": [
        "### Data Cleaning"
      ]
    },
    {
      "cell_type": "code",
      "metadata": {
        "colab": {
          "base_uri": "https://localhost:8080/"
        },
        "id": "QvUdEWspbHcv",
        "outputId": "c890070d-15e3-40c9-b3cd-2b60a19ca83b"
      },
      "source": [
        "df.isna().sum()"
      ],
      "execution_count": 48,
      "outputs": [
        {
          "output_type": "execute_result",
          "data": {
            "text/plain": [
              "Unnamed: 0                    0\n",
              "username                      0\n",
              "new_tweets                    2\n",
              "clean_tweets                 23\n",
              "tweets_without_stopwords    482\n",
              "replies                       1\n",
              "retweets                      1\n",
              "likes                         1\n",
              "dtype: int64"
            ]
          },
          "metadata": {
            "tags": []
          },
          "execution_count": 48
        }
      ]
    },
    {
      "cell_type": "code",
      "metadata": {
        "colab": {
          "base_uri": "https://localhost:8080/"
        },
        "id": "aJv9kqzIcFsm",
        "outputId": "349cafe5-ad54-4ddf-9ac6-7333a8838a5a"
      },
      "source": [
        "df.dropna(inplace=True, axis=0)\n",
        "df.isna().sum()"
      ],
      "execution_count": 49,
      "outputs": [
        {
          "output_type": "execute_result",
          "data": {
            "text/plain": [
              "Unnamed: 0                  0\n",
              "username                    0\n",
              "new_tweets                  0\n",
              "clean_tweets                0\n",
              "tweets_without_stopwords    0\n",
              "replies                     0\n",
              "retweets                    0\n",
              "likes                       0\n",
              "dtype: int64"
            ]
          },
          "metadata": {
            "tags": []
          },
          "execution_count": 49
        }
      ]
    },
    {
      "cell_type": "code",
      "metadata": {
        "colab": {
          "base_uri": "https://localhost:8080/",
          "height": 204
        },
        "id": "Xj-uvsk0cHv7",
        "outputId": "f0e6fdb5-c4fb-4a4d-a009-8c15c2cf049a"
      },
      "source": [
        "data = pd.DataFrame(df['tweets_without_stopwords'])\n",
        "data.head()"
      ],
      "execution_count": 50,
      "outputs": [
        {
          "output_type": "execute_result",
          "data": {
            "text/html": [
              "<div>\n",
              "<style scoped>\n",
              "    .dataframe tbody tr th:only-of-type {\n",
              "        vertical-align: middle;\n",
              "    }\n",
              "\n",
              "    .dataframe tbody tr th {\n",
              "        vertical-align: top;\n",
              "    }\n",
              "\n",
              "    .dataframe thead th {\n",
              "        text-align: right;\n",
              "    }\n",
              "</style>\n",
              "<table border=\"1\" class=\"dataframe\">\n",
              "  <thead>\n",
              "    <tr style=\"text-align: right;\">\n",
              "      <th></th>\n",
              "      <th>tweets_without_stopwords</th>\n",
              "    </tr>\n",
              "  </thead>\n",
              "  <tbody>\n",
              "    <tr>\n",
              "      <th>0</th>\n",
              "      <td>talk dangerous woman stalking britney sending ...</td>\n",
              "    </tr>\n",
              "    <tr>\n",
              "      <th>1</th>\n",
              "      <td>getting drunk work happened male best friend j...</td>\n",
              "    </tr>\n",
              "    <tr>\n",
              "      <th>2</th>\n",
              "      <td>seeing random penis fear every woman sexual vi...</td>\n",
              "    </tr>\n",
              "    <tr>\n",
              "      <th>3</th>\n",
              "      <td>franklin woman left multiple messages attempt ...</td>\n",
              "    </tr>\n",
              "    <tr>\n",
              "      <th>4</th>\n",
              "      <td>read details walker also sued woman accused wa...</td>\n",
              "    </tr>\n",
              "  </tbody>\n",
              "</table>\n",
              "</div>"
            ],
            "text/plain": [
              "                            tweets_without_stopwords\n",
              "0  talk dangerous woman stalking britney sending ...\n",
              "1  getting drunk work happened male best friend j...\n",
              "2  seeing random penis fear every woman sexual vi...\n",
              "3  franklin woman left multiple messages attempt ...\n",
              "4  read details walker also sued woman accused wa..."
            ]
          },
          "metadata": {
            "tags": []
          },
          "execution_count": 50
        }
      ]
    },
    {
      "cell_type": "code",
      "metadata": {
        "colab": {
          "base_uri": "https://localhost:8080/",
          "height": 52
        },
        "id": "psQl9PsPcOEL",
        "outputId": "b6521812-6985-4300-b36e-d59d99e83a4c"
      },
      "source": [
        "data['tweets_without_stopwords'][0]"
      ],
      "execution_count": 51,
      "outputs": [
        {
          "output_type": "execute_result",
          "data": {
            "application/vnd.google.colaboratory.intrinsic+json": {
              "type": "string"
            },
            "text/plain": [
              "'talk dangerous woman stalking britney sending creepy emails gay demon britney reported lawyer instead issuing restraining order jamie spears made brit'"
            ]
          },
          "metadata": {
            "tags": []
          },
          "execution_count": 51
        }
      ]
    },
    {
      "cell_type": "code",
      "metadata": {
        "colab": {
          "base_uri": "https://localhost:8080/"
        },
        "id": "N9JUGth1cjdF",
        "outputId": "f28dfbb3-7f75-47e2-be93-148f4c9098a5"
      },
      "source": [
        "print(data[:1])"
      ],
      "execution_count": 52,
      "outputs": [
        {
          "output_type": "stream",
          "text": [
            "                            tweets_without_stopwords\n",
            "0  talk dangerous woman stalking britney sending ...\n"
          ],
          "name": "stdout"
        }
      ]
    },
    {
      "cell_type": "markdown",
      "metadata": {
        "id": "7hW0gfTBcXV7"
      },
      "source": [
        "### Tokenize"
      ]
    },
    {
      "cell_type": "code",
      "metadata": {
        "colab": {
          "base_uri": "https://localhost:8080/",
          "height": 204
        },
        "id": "paTqP-64cRS9",
        "outputId": "25f6ab3f-627e-42b8-a5bf-5b0eee5f34f0"
      },
      "source": [
        "data['tokenized_tweets'] = data.apply(lambda row: nltk.word_tokenize(row['tweets_without_stopwords']), axis=1)\n",
        "data.head()"
      ],
      "execution_count": 53,
      "outputs": [
        {
          "output_type": "execute_result",
          "data": {
            "text/html": [
              "<div>\n",
              "<style scoped>\n",
              "    .dataframe tbody tr th:only-of-type {\n",
              "        vertical-align: middle;\n",
              "    }\n",
              "\n",
              "    .dataframe tbody tr th {\n",
              "        vertical-align: top;\n",
              "    }\n",
              "\n",
              "    .dataframe thead th {\n",
              "        text-align: right;\n",
              "    }\n",
              "</style>\n",
              "<table border=\"1\" class=\"dataframe\">\n",
              "  <thead>\n",
              "    <tr style=\"text-align: right;\">\n",
              "      <th></th>\n",
              "      <th>tweets_without_stopwords</th>\n",
              "      <th>tokenized_tweets</th>\n",
              "    </tr>\n",
              "  </thead>\n",
              "  <tbody>\n",
              "    <tr>\n",
              "      <th>0</th>\n",
              "      <td>talk dangerous woman stalking britney sending ...</td>\n",
              "      <td>[talk, dangerous, woman, stalking, britney, se...</td>\n",
              "    </tr>\n",
              "    <tr>\n",
              "      <th>1</th>\n",
              "      <td>getting drunk work happened male best friend j...</td>\n",
              "      <td>[getting, drunk, work, happened, male, best, f...</td>\n",
              "    </tr>\n",
              "    <tr>\n",
              "      <th>2</th>\n",
              "      <td>seeing random penis fear every woman sexual vi...</td>\n",
              "      <td>[seeing, random, penis, fear, every, woman, se...</td>\n",
              "    </tr>\n",
              "    <tr>\n",
              "      <th>3</th>\n",
              "      <td>franklin woman left multiple messages attempt ...</td>\n",
              "      <td>[franklin, woman, left, multiple, messages, at...</td>\n",
              "    </tr>\n",
              "    <tr>\n",
              "      <th>4</th>\n",
              "      <td>read details walker also sued woman accused wa...</td>\n",
              "      <td>[read, details, walker, also, sued, woman, acc...</td>\n",
              "    </tr>\n",
              "  </tbody>\n",
              "</table>\n",
              "</div>"
            ],
            "text/plain": [
              "                            tweets_without_stopwords                                   tokenized_tweets\n",
              "0  talk dangerous woman stalking britney sending ...  [talk, dangerous, woman, stalking, britney, se...\n",
              "1  getting drunk work happened male best friend j...  [getting, drunk, work, happened, male, best, f...\n",
              "2  seeing random penis fear every woman sexual vi...  [seeing, random, penis, fear, every, woman, se...\n",
              "3  franklin woman left multiple messages attempt ...  [franklin, woman, left, multiple, messages, at...\n",
              "4  read details walker also sued woman accused wa...  [read, details, walker, also, sued, woman, acc..."
            ]
          },
          "metadata": {
            "tags": []
          },
          "execution_count": 53
        }
      ]
    },
    {
      "cell_type": "markdown",
      "metadata": {
        "id": "pL-b5Aa1dWtO"
      },
      "source": [
        "### Stemming\n",
        "Stemming is the process of reducing a word to its word stem that affixes to suffixes and prefixes or to the roots of words known as a lemma.\n",
        "\n",
        "The advantage of this is, we get to reduce the total number of unique words in the dictionary. As a result, the number of columns in the document-word matrix (created by CountVectorizer in the next step) will be denser with lesser columns."
      ]
    },
    {
      "cell_type": "code",
      "metadata": {
        "colab": {
          "base_uri": "https://localhost:8080/",
          "height": 289
        },
        "id": "_w8pABUgcfXe",
        "outputId": "8f067bfe-03e6-471e-e627-aef52551f92f"
      },
      "source": [
        "data['stemmed'] = data['tokenized_tweets'].apply(lambda x: [stemmer.stem(y) for y in x]) # Stem every word.\n",
        "\n",
        "data.head() # Print dataframe."
      ],
      "execution_count": 54,
      "outputs": [
        {
          "output_type": "execute_result",
          "data": {
            "text/html": [
              "<div>\n",
              "<style scoped>\n",
              "    .dataframe tbody tr th:only-of-type {\n",
              "        vertical-align: middle;\n",
              "    }\n",
              "\n",
              "    .dataframe tbody tr th {\n",
              "        vertical-align: top;\n",
              "    }\n",
              "\n",
              "    .dataframe thead th {\n",
              "        text-align: right;\n",
              "    }\n",
              "</style>\n",
              "<table border=\"1\" class=\"dataframe\">\n",
              "  <thead>\n",
              "    <tr style=\"text-align: right;\">\n",
              "      <th></th>\n",
              "      <th>tweets_without_stopwords</th>\n",
              "      <th>tokenized_tweets</th>\n",
              "      <th>stemmed</th>\n",
              "    </tr>\n",
              "  </thead>\n",
              "  <tbody>\n",
              "    <tr>\n",
              "      <th>0</th>\n",
              "      <td>talk dangerous woman stalking britney sending ...</td>\n",
              "      <td>[talk, dangerous, woman, stalking, britney, se...</td>\n",
              "      <td>[talk, danger, woman, stalk, britney, send, cr...</td>\n",
              "    </tr>\n",
              "    <tr>\n",
              "      <th>1</th>\n",
              "      <td>getting drunk work happened male best friend j...</td>\n",
              "      <td>[getting, drunk, work, happened, male, best, f...</td>\n",
              "      <td>[get, drunk, work, happen, male, best, friend,...</td>\n",
              "    </tr>\n",
              "    <tr>\n",
              "      <th>2</th>\n",
              "      <td>seeing random penis fear every woman sexual vi...</td>\n",
              "      <td>[seeing, random, penis, fear, every, woman, se...</td>\n",
              "      <td>[see, random, peni, fear, everi, woman, sexual...</td>\n",
              "    </tr>\n",
              "    <tr>\n",
              "      <th>3</th>\n",
              "      <td>franklin woman left multiple messages attempt ...</td>\n",
              "      <td>[franklin, woman, left, multiple, messages, at...</td>\n",
              "      <td>[franklin, woman, left, multipl, messag, attem...</td>\n",
              "    </tr>\n",
              "    <tr>\n",
              "      <th>4</th>\n",
              "      <td>read details walker also sued woman accused wa...</td>\n",
              "      <td>[read, details, walker, also, sued, woman, acc...</td>\n",
              "      <td>[read, detail, walker, also, su, woman, accus,...</td>\n",
              "    </tr>\n",
              "  </tbody>\n",
              "</table>\n",
              "</div>"
            ],
            "text/plain": [
              "                            tweets_without_stopwords  ...                                            stemmed\n",
              "0  talk dangerous woman stalking britney sending ...  ...  [talk, danger, woman, stalk, britney, send, cr...\n",
              "1  getting drunk work happened male best friend j...  ...  [get, drunk, work, happen, male, best, friend,...\n",
              "2  seeing random penis fear every woman sexual vi...  ...  [see, random, peni, fear, everi, woman, sexual...\n",
              "3  franklin woman left multiple messages attempt ...  ...  [franklin, woman, left, multipl, messag, attem...\n",
              "4  read details walker also sued woman accused wa...  ...  [read, detail, walker, also, su, woman, accus,...\n",
              "\n",
              "[5 rows x 3 columns]"
            ]
          },
          "metadata": {
            "tags": []
          },
          "execution_count": 54
        }
      ]
    },
    {
      "cell_type": "markdown",
      "metadata": {
        "id": "K09xPBzrgwUd"
      },
      "source": [
        "### Create the Document-Word matrix\n",
        "The LDA topic model algorithm requires a document word matrix as the main input.\n",
        "You can create one using CountVectorizer. In the below code, I have configured the CountVectorizer to consider words that has occurred at least 10 times (min_df), remove built-in english stopwords, convert all words to lowercase, and a word can contain numbers and alphabets of at least length 3 in order to be qualified as a word."
      ]
    },
    {
      "cell_type": "code",
      "metadata": {
        "id": "MT3nThsoIEUX"
      },
      "source": [
        "vect = TfidfVectorizer(stop_words=stop_words,max_features=1000)"
      ],
      "execution_count": 55,
      "outputs": []
    },
    {
      "cell_type": "code",
      "metadata": {
        "colab": {
          "base_uri": "https://localhost:8080/"
        },
        "id": "MBHMSA9CNUYL",
        "outputId": "be763801-fd74-4b96-acda-0f84de037da8"
      },
      "source": [
        "vect_text = vect.fit_transform(data['tweets_without_stopwords'])\n",
        "print(vect_text)"
      ],
      "execution_count": 56,
      "outputs": [
        {
          "output_type": "stream",
          "text": [
            "  (0, 530)\t0.31263214275557655\n",
            "  (0, 623)\t0.37475937020863165\n",
            "  (0, 446)\t0.359150252435049\n",
            "  (0, 725)\t0.38000375075019677\n",
            "  (0, 347)\t0.35169617857927526\n",
            "  (0, 814)\t0.26145554004437976\n",
            "  (0, 965)\t0.1367919611497165\n",
            "  (0, 215)\t0.41176458649755515\n",
            "  (0, 849)\t0.32880615348964776\n",
            "  (1, 40)\t0.1915126034739174\n",
            "  (1, 895)\t0.31258715750486665\n",
            "  (1, 557)\t0.37452154808851373\n",
            "  (1, 824)\t0.2188829111762232\n",
            "  (1, 176)\t0.29974714768481275\n",
            "  (1, 335)\t0.2700742476490259\n",
            "  (1, 99)\t0.27294034959664104\n",
            "  (1, 537)\t0.2540762564228144\n",
            "  (1, 388)\t0.26764041099618274\n",
            "  (1, 973)\t0.22119824660761583\n",
            "  (1, 353)\t0.49421933135900437\n",
            "  (1, 965)\t0.10384431227807862\n",
            "  (2, 356)\t0.1304394733658438\n",
            "  (2, 513)\t0.22990232240664785\n",
            "  (2, 67)\t0.1168545987657141\n",
            "  (2, 421)\t0.17390421097347344\n",
            "  :\t:\n",
            "  (45310, 239)\t0.30360315615926814\n",
            "  (45310, 994)\t0.3220406394901512\n",
            "  (45310, 642)\t0.431431738920888\n",
            "  (45310, 534)\t0.2694761527967481\n",
            "  (45310, 956)\t0.28418204266063757\n",
            "  (45310, 749)\t0.2694761527967481\n",
            "  (45310, 867)\t0.24623945973757083\n",
            "  (45310, 108)\t0.2803804440704408\n",
            "  (45311, 791)\t0.6031766787984226\n",
            "  (45311, 997)\t0.388899881983834\n",
            "  (45311, 108)\t0.47011773458179085\n",
            "  (45311, 927)\t0.3250606971836287\n",
            "  (45311, 557)\t0.39781859524768626\n",
            "  (45312, 744)\t0.46863782924525055\n",
            "  (45312, 191)\t0.4584007929352598\n",
            "  (45312, 843)\t0.4671869466605499\n",
            "  (45312, 928)\t0.44970784339627695\n",
            "  (45312, 351)\t0.2996422016572317\n",
            "  (45312, 927)\t0.2448694784584101\n",
            "  (45313, 514)\t0.5269744283729761\n",
            "  (45313, 802)\t0.5439952257651568\n",
            "  (45313, 41)\t0.4916500105239706\n",
            "  (45313, 927)\t0.31023792462303257\n",
            "  (45313, 779)\t0.29732111170090897\n",
            "  (45314, 348)\t1.0\n"
          ],
          "name": "stdout"
        }
      ]
    },
    {
      "cell_type": "code",
      "metadata": {
        "colab": {
          "base_uri": "https://localhost:8080/"
        },
        "id": "H-NMPqvShJbx",
        "outputId": "323a3196-0f3e-4235-beab-0600b952a1c4"
      },
      "source": [
        "# Build LDA Model\n",
        "lda_model = LatentDirichletAllocation(n_components=20,               # Number of topics\n",
        "                                      max_iter=10,               \n",
        "# Max learning iterations\n",
        "                                      learning_method='online',   \n",
        "                                      random_state=100,          \n",
        "# Random state\n",
        "                                      batch_size=128,            \n",
        "# n docs in each learning iter\n",
        "                                      evaluate_every = -1,       \n",
        "# compute perplexity every n iters, default: Don't\n",
        "                                      n_jobs = -1,               \n",
        "# Use all available CPUs\n",
        "                                     )\n",
        "lda_output = lda_model.fit_transform(vect_text)\n",
        "print(lda_model)  # Model attributes"
      ],
      "execution_count": 57,
      "outputs": [
        {
          "output_type": "stream",
          "text": [
            "LatentDirichletAllocation(batch_size=128, doc_topic_prior=None,\n",
            "                          evaluate_every=-1, learning_decay=0.7,\n",
            "                          learning_method='online', learning_offset=10.0,\n",
            "                          max_doc_update_iter=100, max_iter=10,\n",
            "                          mean_change_tol=0.001, n_components=20, n_jobs=-1,\n",
            "                          perp_tol=0.1, random_state=100, topic_word_prior=None,\n",
            "                          total_samples=1000000.0, verbose=0)\n"
          ],
          "name": "stdout"
        }
      ]
    },
    {
      "cell_type": "markdown",
      "metadata": {
        "id": "FZjOcGzKNwVb"
      },
      "source": [
        "Because we want to find out the best parametres, we use Latent Dirichlet Allocation with online variational Bayes algorithm:"
      ]
    },
    {
      "cell_type": "code",
      "metadata": {
        "colab": {
          "base_uri": "https://localhost:8080/"
        },
        "id": "HxIBMuN-hu7u",
        "outputId": "4dec910a-afa0-4f9b-cf85-126ad61f6fcc"
      },
      "source": [
        "lda = LatentDirichletAllocation(batch_size=128, doc_topic_prior=None,\n",
        "        evaluate_every=-1, learning_decay=0.7,\n",
        "        learning_method='online', learning_offset=10.0,\n",
        "        max_doc_update_iter=100, max_iter=10, mean_change_tol=0.001,\n",
        "        n_components=10, n_jobs=-1, perp_tol=0.1,\n",
        "        random_state=100, topic_word_prior=None,\n",
        "        total_samples=1000000.0, verbose=0\n",
        " )\n",
        "\n",
        "# Create Document — Topic Matrix\n",
        "lda_output = lda.fit_transform(vect_text)\n",
        "print(lda_model) "
      ],
      "execution_count": 58,
      "outputs": [
        {
          "output_type": "stream",
          "text": [
            "LatentDirichletAllocation(batch_size=128, doc_topic_prior=None,\n",
            "                          evaluate_every=-1, learning_decay=0.7,\n",
            "                          learning_method='online', learning_offset=10.0,\n",
            "                          max_doc_update_iter=100, max_iter=10,\n",
            "                          mean_change_tol=0.001, n_components=20, n_jobs=-1,\n",
            "                          perp_tol=0.1, random_state=100, topic_word_prior=None,\n",
            "                          total_samples=1000000.0, verbose=0)\n"
          ],
          "name": "stdout"
        }
      ]
    },
    {
      "cell_type": "markdown",
      "metadata": {
        "id": "8LlXM_HjOHZV"
      },
      "source": [
        "### Diagnose model performance with perplexity and log-likelihood\n",
        "A model with higher log-likelihood and lower perplexity (exp(-1. * log-likelihood per word)) is considered to be good."
      ]
    },
    {
      "cell_type": "code",
      "metadata": {
        "id": "JdlUgR0mOJ6_"
      },
      "source": [
        "# Log Likelyhood: Higher the better\n",
        "print(\"Log Likelihood: \", lda.score(vect_text))\n",
        "# Perplexity: Lower the better. Perplexity = exp(-1. * log-likelihood per word)\n",
        "print(\"Perplexity: \", lda.perplexity(vect_text),\"LDA Parameters:\\n\")\n",
        "# See model parameters\n",
        "pprint(lda.get_params())"
      ],
      "execution_count": null,
      "outputs": []
    },
    {
      "cell_type": "markdown",
      "metadata": {
        "id": "lUzEKJTLPB_u"
      },
      "source": [
        "On a different note, perplexity might not be the best measure to evaluate topic models because it doesn’t consider the context and semantic associations between words."
      ]
    },
    {
      "cell_type": "markdown",
      "metadata": {
        "id": "gabEtMEpPceh"
      },
      "source": [
        "### Dominant topic\n",
        "To classify a document as belonging to a particular topic, a logical approach is to see which topic has the highest contribution to that document and assign it."
      ]
    },
    {
      "cell_type": "code",
      "metadata": {
        "colab": {
          "base_uri": "https://localhost:8080/",
          "height": 355
        },
        "id": "MVwz_7t5PeqJ",
        "outputId": "083c19ef-aa93-4448-a99e-ff5cd86d225b"
      },
      "source": [
        "# column names\n",
        "topicnames = ['Topic' + str(i) for i in range(lda.n_components)]\n",
        "# index names\n",
        "docnames = ['Doc' + str(i) for i in range(len(data))]\n",
        "# Make the pandas dataframe\n",
        "df_document_topic = pd.DataFrame(np.round(lda_output, 2), columns=topicnames, index=docnames)\n",
        "# Get dominant topic for each document\n",
        "dominant_topic = np.argmax(df_document_topic.values, axis=1)\n",
        "df_document_topic['dominant_topic'] = dominant_topic\n",
        "# Styling\n",
        "def color_green(val):\n",
        " color = 'green' if val > .1 else 'black'\n",
        " return 'color: {col}'.format(col=color)\n",
        "\n",
        "def make_bold(val):\n",
        " weight = 700 if val > .1 else 400\n",
        " return 'font-weight: {weight}'.format(weight=weight)\n",
        "# Apply Style\n",
        "df_document_topics = df_document_topic.head(15).style.applymap(color_green).applymap(make_bold)\n",
        "df_document_topics"
      ],
      "execution_count": 60,
      "outputs": [
        {
          "output_type": "execute_result",
          "data": {
            "text/html": [
              "<style type=\"text/css\">\n",
              "#T_8ea4b_row0_col0, #T_8ea4b_row0_col1, #T_8ea4b_row0_col2, #T_8ea4b_row0_col3, #T_8ea4b_row0_col4, #T_8ea4b_row0_col6, #T_8ea4b_row0_col7, #T_8ea4b_row0_col8, #T_8ea4b_row1_col0, #T_8ea4b_row1_col1, #T_8ea4b_row1_col3, #T_8ea4b_row1_col4, #T_8ea4b_row1_col5, #T_8ea4b_row1_col6, #T_8ea4b_row1_col7, #T_8ea4b_row1_col8, #T_8ea4b_row1_col9, #T_8ea4b_row2_col0, #T_8ea4b_row2_col3, #T_8ea4b_row2_col4, #T_8ea4b_row2_col5, #T_8ea4b_row2_col6, #T_8ea4b_row2_col7, #T_8ea4b_row2_col8, #T_8ea4b_row2_col9, #T_8ea4b_row3_col0, #T_8ea4b_row3_col2, #T_8ea4b_row3_col3, #T_8ea4b_row3_col4, #T_8ea4b_row3_col5, #T_8ea4b_row3_col6, #T_8ea4b_row3_col7, #T_8ea4b_row3_col8, #T_8ea4b_row3_col9, #T_8ea4b_row4_col0, #T_8ea4b_row4_col2, #T_8ea4b_row4_col3, #T_8ea4b_row4_col4, #T_8ea4b_row4_col5, #T_8ea4b_row4_col6, #T_8ea4b_row4_col7, #T_8ea4b_row4_col9, #T_8ea4b_row5_col1, #T_8ea4b_row5_col2, #T_8ea4b_row5_col3, #T_8ea4b_row5_col4, #T_8ea4b_row5_col5, #T_8ea4b_row5_col6, #T_8ea4b_row5_col7, #T_8ea4b_row5_col8, #T_8ea4b_row5_col9, #T_8ea4b_row5_col10, #T_8ea4b_row6_col0, #T_8ea4b_row6_col1, #T_8ea4b_row6_col2, #T_8ea4b_row6_col3, #T_8ea4b_row6_col4, #T_8ea4b_row6_col5, #T_8ea4b_row6_col6, #T_8ea4b_row6_col7, #T_8ea4b_row6_col9, #T_8ea4b_row7_col0, #T_8ea4b_row7_col1, #T_8ea4b_row7_col3, #T_8ea4b_row7_col4, #T_8ea4b_row7_col5, #T_8ea4b_row7_col7, #T_8ea4b_row7_col8, #T_8ea4b_row7_col9, #T_8ea4b_row8_col0, #T_8ea4b_row8_col1, #T_8ea4b_row8_col2, #T_8ea4b_row8_col3, #T_8ea4b_row8_col4, #T_8ea4b_row8_col5, #T_8ea4b_row8_col6, #T_8ea4b_row8_col9, #T_8ea4b_row9_col0, #T_8ea4b_row9_col1, #T_8ea4b_row9_col2, #T_8ea4b_row9_col4, #T_8ea4b_row9_col5, #T_8ea4b_row9_col6, #T_8ea4b_row9_col7, #T_8ea4b_row9_col8, #T_8ea4b_row9_col9, #T_8ea4b_row10_col0, #T_8ea4b_row10_col1, #T_8ea4b_row10_col2, #T_8ea4b_row10_col3, #T_8ea4b_row10_col4, #T_8ea4b_row10_col7, #T_8ea4b_row10_col8, #T_8ea4b_row10_col9, #T_8ea4b_row11_col2, #T_8ea4b_row11_col3, #T_8ea4b_row11_col4, #T_8ea4b_row11_col5, #T_8ea4b_row11_col6, #T_8ea4b_row11_col7, #T_8ea4b_row11_col8, #T_8ea4b_row11_col9, #T_8ea4b_row12_col0, #T_8ea4b_row12_col1, #T_8ea4b_row12_col2, #T_8ea4b_row12_col3, #T_8ea4b_row12_col4, #T_8ea4b_row12_col5, #T_8ea4b_row12_col7, #T_8ea4b_row12_col8, #T_8ea4b_row13_col0, #T_8ea4b_row13_col1, #T_8ea4b_row13_col2, #T_8ea4b_row13_col4, #T_8ea4b_row13_col6, #T_8ea4b_row13_col7, #T_8ea4b_row13_col8, #T_8ea4b_row13_col9, #T_8ea4b_row14_col1, #T_8ea4b_row14_col2, #T_8ea4b_row14_col3, #T_8ea4b_row14_col4, #T_8ea4b_row14_col5, #T_8ea4b_row14_col6, #T_8ea4b_row14_col7, #T_8ea4b_row14_col8, #T_8ea4b_row14_col9, #T_8ea4b_row14_col10 {\n",
              "  color: black;\n",
              "  font-weight: 400;\n",
              "}\n",
              "#T_8ea4b_row0_col5, #T_8ea4b_row0_col9, #T_8ea4b_row0_col10, #T_8ea4b_row1_col2, #T_8ea4b_row1_col10, #T_8ea4b_row2_col1, #T_8ea4b_row2_col2, #T_8ea4b_row2_col10, #T_8ea4b_row3_col1, #T_8ea4b_row3_col10, #T_8ea4b_row4_col1, #T_8ea4b_row4_col8, #T_8ea4b_row4_col10, #T_8ea4b_row5_col0, #T_8ea4b_row6_col8, #T_8ea4b_row6_col10, #T_8ea4b_row7_col2, #T_8ea4b_row7_col6, #T_8ea4b_row7_col10, #T_8ea4b_row8_col7, #T_8ea4b_row8_col8, #T_8ea4b_row8_col10, #T_8ea4b_row9_col3, #T_8ea4b_row9_col10, #T_8ea4b_row10_col5, #T_8ea4b_row10_col6, #T_8ea4b_row10_col10, #T_8ea4b_row11_col0, #T_8ea4b_row11_col1, #T_8ea4b_row11_col10, #T_8ea4b_row12_col6, #T_8ea4b_row12_col9, #T_8ea4b_row12_col10, #T_8ea4b_row13_col3, #T_8ea4b_row13_col5, #T_8ea4b_row13_col10, #T_8ea4b_row14_col0 {\n",
              "  color: green;\n",
              "  font-weight: 700;\n",
              "}\n",
              "</style>\n",
              "<table id=\"T_8ea4b_\">\n",
              "  <thead>\n",
              "    <tr>\n",
              "      <th class=\"blank level0\" >&nbsp;</th>\n",
              "      <th class=\"col_heading level0 col0\" >Topic0</th>\n",
              "      <th class=\"col_heading level0 col1\" >Topic1</th>\n",
              "      <th class=\"col_heading level0 col2\" >Topic2</th>\n",
              "      <th class=\"col_heading level0 col3\" >Topic3</th>\n",
              "      <th class=\"col_heading level0 col4\" >Topic4</th>\n",
              "      <th class=\"col_heading level0 col5\" >Topic5</th>\n",
              "      <th class=\"col_heading level0 col6\" >Topic6</th>\n",
              "      <th class=\"col_heading level0 col7\" >Topic7</th>\n",
              "      <th class=\"col_heading level0 col8\" >Topic8</th>\n",
              "      <th class=\"col_heading level0 col9\" >Topic9</th>\n",
              "      <th class=\"col_heading level0 col10\" >dominant_topic</th>\n",
              "    </tr>\n",
              "  </thead>\n",
              "  <tbody>\n",
              "    <tr>\n",
              "      <th id=\"T_8ea4b_level0_row0\" class=\"row_heading level0 row0\" >Doc0</th>\n",
              "      <td id=\"T_8ea4b_row0_col0\" class=\"data row0 col0\" >0.030000</td>\n",
              "      <td id=\"T_8ea4b_row0_col1\" class=\"data row0 col1\" >0.030000</td>\n",
              "      <td id=\"T_8ea4b_row0_col2\" class=\"data row0 col2\" >0.030000</td>\n",
              "      <td id=\"T_8ea4b_row0_col3\" class=\"data row0 col3\" >0.030000</td>\n",
              "      <td id=\"T_8ea4b_row0_col4\" class=\"data row0 col4\" >0.030000</td>\n",
              "      <td id=\"T_8ea4b_row0_col5\" class=\"data row0 col5\" >0.140000</td>\n",
              "      <td id=\"T_8ea4b_row0_col6\" class=\"data row0 col6\" >0.030000</td>\n",
              "      <td id=\"T_8ea4b_row0_col7\" class=\"data row0 col7\" >0.030000</td>\n",
              "      <td id=\"T_8ea4b_row0_col8\" class=\"data row0 col8\" >0.030000</td>\n",
              "      <td id=\"T_8ea4b_row0_col9\" class=\"data row0 col9\" >0.650000</td>\n",
              "      <td id=\"T_8ea4b_row0_col10\" class=\"data row0 col10\" >9</td>\n",
              "    </tr>\n",
              "    <tr>\n",
              "      <th id=\"T_8ea4b_level0_row1\" class=\"row_heading level0 row1\" >Doc1</th>\n",
              "      <td id=\"T_8ea4b_row1_col0\" class=\"data row1 col0\" >0.020000</td>\n",
              "      <td id=\"T_8ea4b_row1_col1\" class=\"data row1 col1\" >0.020000</td>\n",
              "      <td id=\"T_8ea4b_row1_col2\" class=\"data row1 col2\" >0.790000</td>\n",
              "      <td id=\"T_8ea4b_row1_col3\" class=\"data row1 col3\" >0.020000</td>\n",
              "      <td id=\"T_8ea4b_row1_col4\" class=\"data row1 col4\" >0.020000</td>\n",
              "      <td id=\"T_8ea4b_row1_col5\" class=\"data row1 col5\" >0.020000</td>\n",
              "      <td id=\"T_8ea4b_row1_col6\" class=\"data row1 col6\" >0.020000</td>\n",
              "      <td id=\"T_8ea4b_row1_col7\" class=\"data row1 col7\" >0.020000</td>\n",
              "      <td id=\"T_8ea4b_row1_col8\" class=\"data row1 col8\" >0.020000</td>\n",
              "      <td id=\"T_8ea4b_row1_col9\" class=\"data row1 col9\" >0.020000</td>\n",
              "      <td id=\"T_8ea4b_row1_col10\" class=\"data row1 col10\" >2</td>\n",
              "    </tr>\n",
              "    <tr>\n",
              "      <th id=\"T_8ea4b_level0_row2\" class=\"row_heading level0 row2\" >Doc2</th>\n",
              "      <td id=\"T_8ea4b_row2_col0\" class=\"data row2 col0\" >0.030000</td>\n",
              "      <td id=\"T_8ea4b_row2_col1\" class=\"data row2 col1\" >0.680000</td>\n",
              "      <td id=\"T_8ea4b_row2_col2\" class=\"data row2 col2\" >0.120000</td>\n",
              "      <td id=\"T_8ea4b_row2_col3\" class=\"data row2 col3\" >0.030000</td>\n",
              "      <td id=\"T_8ea4b_row2_col4\" class=\"data row2 col4\" >0.030000</td>\n",
              "      <td id=\"T_8ea4b_row2_col5\" class=\"data row2 col5\" >0.030000</td>\n",
              "      <td id=\"T_8ea4b_row2_col6\" class=\"data row2 col6\" >0.030000</td>\n",
              "      <td id=\"T_8ea4b_row2_col7\" class=\"data row2 col7\" >0.030000</td>\n",
              "      <td id=\"T_8ea4b_row2_col8\" class=\"data row2 col8\" >0.030000</td>\n",
              "      <td id=\"T_8ea4b_row2_col9\" class=\"data row2 col9\" >0.030000</td>\n",
              "      <td id=\"T_8ea4b_row2_col10\" class=\"data row2 col10\" >1</td>\n",
              "    </tr>\n",
              "    <tr>\n",
              "      <th id=\"T_8ea4b_level0_row3\" class=\"row_heading level0 row3\" >Doc3</th>\n",
              "      <td id=\"T_8ea4b_row3_col0\" class=\"data row3 col0\" >0.030000</td>\n",
              "      <td id=\"T_8ea4b_row3_col1\" class=\"data row3 col1\" >0.750000</td>\n",
              "      <td id=\"T_8ea4b_row3_col2\" class=\"data row3 col2\" >0.030000</td>\n",
              "      <td id=\"T_8ea4b_row3_col3\" class=\"data row3 col3\" >0.030000</td>\n",
              "      <td id=\"T_8ea4b_row3_col4\" class=\"data row3 col4\" >0.030000</td>\n",
              "      <td id=\"T_8ea4b_row3_col5\" class=\"data row3 col5\" >0.030000</td>\n",
              "      <td id=\"T_8ea4b_row3_col6\" class=\"data row3 col6\" >0.030000</td>\n",
              "      <td id=\"T_8ea4b_row3_col7\" class=\"data row3 col7\" >0.030000</td>\n",
              "      <td id=\"T_8ea4b_row3_col8\" class=\"data row3 col8\" >0.030000</td>\n",
              "      <td id=\"T_8ea4b_row3_col9\" class=\"data row3 col9\" >0.030000</td>\n",
              "      <td id=\"T_8ea4b_row3_col10\" class=\"data row3 col10\" >1</td>\n",
              "    </tr>\n",
              "    <tr>\n",
              "      <th id=\"T_8ea4b_level0_row4\" class=\"row_heading level0 row4\" >Doc4</th>\n",
              "      <td id=\"T_8ea4b_row4_col0\" class=\"data row4 col0\" >0.030000</td>\n",
              "      <td id=\"T_8ea4b_row4_col1\" class=\"data row4 col1\" >0.200000</td>\n",
              "      <td id=\"T_8ea4b_row4_col2\" class=\"data row4 col2\" >0.030000</td>\n",
              "      <td id=\"T_8ea4b_row4_col3\" class=\"data row4 col3\" >0.030000</td>\n",
              "      <td id=\"T_8ea4b_row4_col4\" class=\"data row4 col4\" >0.030000</td>\n",
              "      <td id=\"T_8ea4b_row4_col5\" class=\"data row4 col5\" >0.030000</td>\n",
              "      <td id=\"T_8ea4b_row4_col6\" class=\"data row4 col6\" >0.030000</td>\n",
              "      <td id=\"T_8ea4b_row4_col7\" class=\"data row4 col7\" >0.030000</td>\n",
              "      <td id=\"T_8ea4b_row4_col8\" class=\"data row4 col8\" >0.600000</td>\n",
              "      <td id=\"T_8ea4b_row4_col9\" class=\"data row4 col9\" >0.030000</td>\n",
              "      <td id=\"T_8ea4b_row4_col10\" class=\"data row4 col10\" >8</td>\n",
              "    </tr>\n",
              "    <tr>\n",
              "      <th id=\"T_8ea4b_level0_row5\" class=\"row_heading level0 row5\" >Doc5</th>\n",
              "      <td id=\"T_8ea4b_row5_col0\" class=\"data row5 col0\" >0.770000</td>\n",
              "      <td id=\"T_8ea4b_row5_col1\" class=\"data row5 col1\" >0.030000</td>\n",
              "      <td id=\"T_8ea4b_row5_col2\" class=\"data row5 col2\" >0.030000</td>\n",
              "      <td id=\"T_8ea4b_row5_col3\" class=\"data row5 col3\" >0.030000</td>\n",
              "      <td id=\"T_8ea4b_row5_col4\" class=\"data row5 col4\" >0.030000</td>\n",
              "      <td id=\"T_8ea4b_row5_col5\" class=\"data row5 col5\" >0.030000</td>\n",
              "      <td id=\"T_8ea4b_row5_col6\" class=\"data row5 col6\" >0.030000</td>\n",
              "      <td id=\"T_8ea4b_row5_col7\" class=\"data row5 col7\" >0.030000</td>\n",
              "      <td id=\"T_8ea4b_row5_col8\" class=\"data row5 col8\" >0.030000</td>\n",
              "      <td id=\"T_8ea4b_row5_col9\" class=\"data row5 col9\" >0.030000</td>\n",
              "      <td id=\"T_8ea4b_row5_col10\" class=\"data row5 col10\" >0</td>\n",
              "    </tr>\n",
              "    <tr>\n",
              "      <th id=\"T_8ea4b_level0_row6\" class=\"row_heading level0 row6\" >Doc6</th>\n",
              "      <td id=\"T_8ea4b_row6_col0\" class=\"data row6 col0\" >0.030000</td>\n",
              "      <td id=\"T_8ea4b_row6_col1\" class=\"data row6 col1\" >0.030000</td>\n",
              "      <td id=\"T_8ea4b_row6_col2\" class=\"data row6 col2\" >0.030000</td>\n",
              "      <td id=\"T_8ea4b_row6_col3\" class=\"data row6 col3\" >0.030000</td>\n",
              "      <td id=\"T_8ea4b_row6_col4\" class=\"data row6 col4\" >0.030000</td>\n",
              "      <td id=\"T_8ea4b_row6_col5\" class=\"data row6 col5\" >0.030000</td>\n",
              "      <td id=\"T_8ea4b_row6_col6\" class=\"data row6 col6\" >0.030000</td>\n",
              "      <td id=\"T_8ea4b_row6_col7\" class=\"data row6 col7\" >0.030000</td>\n",
              "      <td id=\"T_8ea4b_row6_col8\" class=\"data row6 col8\" >0.720000</td>\n",
              "      <td id=\"T_8ea4b_row6_col9\" class=\"data row6 col9\" >0.030000</td>\n",
              "      <td id=\"T_8ea4b_row6_col10\" class=\"data row6 col10\" >8</td>\n",
              "    </tr>\n",
              "    <tr>\n",
              "      <th id=\"T_8ea4b_level0_row7\" class=\"row_heading level0 row7\" >Doc7</th>\n",
              "      <td id=\"T_8ea4b_row7_col0\" class=\"data row7 col0\" >0.030000</td>\n",
              "      <td id=\"T_8ea4b_row7_col1\" class=\"data row7 col1\" >0.030000</td>\n",
              "      <td id=\"T_8ea4b_row7_col2\" class=\"data row7 col2\" >0.340000</td>\n",
              "      <td id=\"T_8ea4b_row7_col3\" class=\"data row7 col3\" >0.030000</td>\n",
              "      <td id=\"T_8ea4b_row7_col4\" class=\"data row7 col4\" >0.030000</td>\n",
              "      <td id=\"T_8ea4b_row7_col5\" class=\"data row7 col5\" >0.030000</td>\n",
              "      <td id=\"T_8ea4b_row7_col6\" class=\"data row7 col6\" >0.430000</td>\n",
              "      <td id=\"T_8ea4b_row7_col7\" class=\"data row7 col7\" >0.030000</td>\n",
              "      <td id=\"T_8ea4b_row7_col8\" class=\"data row7 col8\" >0.030000</td>\n",
              "      <td id=\"T_8ea4b_row7_col9\" class=\"data row7 col9\" >0.030000</td>\n",
              "      <td id=\"T_8ea4b_row7_col10\" class=\"data row7 col10\" >6</td>\n",
              "    </tr>\n",
              "    <tr>\n",
              "      <th id=\"T_8ea4b_level0_row8\" class=\"row_heading level0 row8\" >Doc8</th>\n",
              "      <td id=\"T_8ea4b_row8_col0\" class=\"data row8 col0\" >0.020000</td>\n",
              "      <td id=\"T_8ea4b_row8_col1\" class=\"data row8 col1\" >0.020000</td>\n",
              "      <td id=\"T_8ea4b_row8_col2\" class=\"data row8 col2\" >0.020000</td>\n",
              "      <td id=\"T_8ea4b_row8_col3\" class=\"data row8 col3\" >0.020000</td>\n",
              "      <td id=\"T_8ea4b_row8_col4\" class=\"data row8 col4\" >0.090000</td>\n",
              "      <td id=\"T_8ea4b_row8_col5\" class=\"data row8 col5\" >0.020000</td>\n",
              "      <td id=\"T_8ea4b_row8_col6\" class=\"data row8 col6\" >0.020000</td>\n",
              "      <td id=\"T_8ea4b_row8_col7\" class=\"data row8 col7\" >0.520000</td>\n",
              "      <td id=\"T_8ea4b_row8_col8\" class=\"data row8 col8\" >0.220000</td>\n",
              "      <td id=\"T_8ea4b_row8_col9\" class=\"data row8 col9\" >0.020000</td>\n",
              "      <td id=\"T_8ea4b_row8_col10\" class=\"data row8 col10\" >7</td>\n",
              "    </tr>\n",
              "    <tr>\n",
              "      <th id=\"T_8ea4b_level0_row9\" class=\"row_heading level0 row9\" >Doc9</th>\n",
              "      <td id=\"T_8ea4b_row9_col0\" class=\"data row9 col0\" >0.030000</td>\n",
              "      <td id=\"T_8ea4b_row9_col1\" class=\"data row9 col1\" >0.030000</td>\n",
              "      <td id=\"T_8ea4b_row9_col2\" class=\"data row9 col2\" >0.030000</td>\n",
              "      <td id=\"T_8ea4b_row9_col3\" class=\"data row9 col3\" >0.760000</td>\n",
              "      <td id=\"T_8ea4b_row9_col4\" class=\"data row9 col4\" >0.030000</td>\n",
              "      <td id=\"T_8ea4b_row9_col5\" class=\"data row9 col5\" >0.030000</td>\n",
              "      <td id=\"T_8ea4b_row9_col6\" class=\"data row9 col6\" >0.030000</td>\n",
              "      <td id=\"T_8ea4b_row9_col7\" class=\"data row9 col7\" >0.030000</td>\n",
              "      <td id=\"T_8ea4b_row9_col8\" class=\"data row9 col8\" >0.030000</td>\n",
              "      <td id=\"T_8ea4b_row9_col9\" class=\"data row9 col9\" >0.030000</td>\n",
              "      <td id=\"T_8ea4b_row9_col10\" class=\"data row9 col10\" >3</td>\n",
              "    </tr>\n",
              "    <tr>\n",
              "      <th id=\"T_8ea4b_level0_row10\" class=\"row_heading level0 row10\" >Doc10</th>\n",
              "      <td id=\"T_8ea4b_row10_col0\" class=\"data row10 col0\" >0.020000</td>\n",
              "      <td id=\"T_8ea4b_row10_col1\" class=\"data row10 col1\" >0.100000</td>\n",
              "      <td id=\"T_8ea4b_row10_col2\" class=\"data row10 col2\" >0.020000</td>\n",
              "      <td id=\"T_8ea4b_row10_col3\" class=\"data row10 col3\" >0.020000</td>\n",
              "      <td id=\"T_8ea4b_row10_col4\" class=\"data row10 col4\" >0.020000</td>\n",
              "      <td id=\"T_8ea4b_row10_col5\" class=\"data row10 col5\" >0.350000</td>\n",
              "      <td id=\"T_8ea4b_row10_col6\" class=\"data row10 col6\" >0.380000</td>\n",
              "      <td id=\"T_8ea4b_row10_col7\" class=\"data row10 col7\" >0.020000</td>\n",
              "      <td id=\"T_8ea4b_row10_col8\" class=\"data row10 col8\" >0.020000</td>\n",
              "      <td id=\"T_8ea4b_row10_col9\" class=\"data row10 col9\" >0.020000</td>\n",
              "      <td id=\"T_8ea4b_row10_col10\" class=\"data row10 col10\" >6</td>\n",
              "    </tr>\n",
              "    <tr>\n",
              "      <th id=\"T_8ea4b_level0_row11\" class=\"row_heading level0 row11\" >Doc11</th>\n",
              "      <td id=\"T_8ea4b_row11_col0\" class=\"data row11 col0\" >0.120000</td>\n",
              "      <td id=\"T_8ea4b_row11_col1\" class=\"data row11 col1\" >0.690000</td>\n",
              "      <td id=\"T_8ea4b_row11_col2\" class=\"data row11 col2\" >0.020000</td>\n",
              "      <td id=\"T_8ea4b_row11_col3\" class=\"data row11 col3\" >0.020000</td>\n",
              "      <td id=\"T_8ea4b_row11_col4\" class=\"data row11 col4\" >0.020000</td>\n",
              "      <td id=\"T_8ea4b_row11_col5\" class=\"data row11 col5\" >0.020000</td>\n",
              "      <td id=\"T_8ea4b_row11_col6\" class=\"data row11 col6\" >0.020000</td>\n",
              "      <td id=\"T_8ea4b_row11_col7\" class=\"data row11 col7\" >0.020000</td>\n",
              "      <td id=\"T_8ea4b_row11_col8\" class=\"data row11 col8\" >0.020000</td>\n",
              "      <td id=\"T_8ea4b_row11_col9\" class=\"data row11 col9\" >0.020000</td>\n",
              "      <td id=\"T_8ea4b_row11_col10\" class=\"data row11 col10\" >1</td>\n",
              "    </tr>\n",
              "    <tr>\n",
              "      <th id=\"T_8ea4b_level0_row12\" class=\"row_heading level0 row12\" >Doc12</th>\n",
              "      <td id=\"T_8ea4b_row12_col0\" class=\"data row12 col0\" >0.040000</td>\n",
              "      <td id=\"T_8ea4b_row12_col1\" class=\"data row12 col1\" >0.040000</td>\n",
              "      <td id=\"T_8ea4b_row12_col2\" class=\"data row12 col2\" >0.040000</td>\n",
              "      <td id=\"T_8ea4b_row12_col3\" class=\"data row12 col3\" >0.040000</td>\n",
              "      <td id=\"T_8ea4b_row12_col4\" class=\"data row12 col4\" >0.040000</td>\n",
              "      <td id=\"T_8ea4b_row12_col5\" class=\"data row12 col5\" >0.040000</td>\n",
              "      <td id=\"T_8ea4b_row12_col6\" class=\"data row12 col6\" >0.320000</td>\n",
              "      <td id=\"T_8ea4b_row12_col7\" class=\"data row12 col7\" >0.040000</td>\n",
              "      <td id=\"T_8ea4b_row12_col8\" class=\"data row12 col8\" >0.040000</td>\n",
              "      <td id=\"T_8ea4b_row12_col9\" class=\"data row12 col9\" >0.380000</td>\n",
              "      <td id=\"T_8ea4b_row12_col10\" class=\"data row12 col10\" >9</td>\n",
              "    </tr>\n",
              "    <tr>\n",
              "      <th id=\"T_8ea4b_level0_row13\" class=\"row_heading level0 row13\" >Doc13</th>\n",
              "      <td id=\"T_8ea4b_row13_col0\" class=\"data row13 col0\" >0.020000</td>\n",
              "      <td id=\"T_8ea4b_row13_col1\" class=\"data row13 col1\" >0.020000</td>\n",
              "      <td id=\"T_8ea4b_row13_col2\" class=\"data row13 col2\" >0.020000</td>\n",
              "      <td id=\"T_8ea4b_row13_col3\" class=\"data row13 col3\" >0.570000</td>\n",
              "      <td id=\"T_8ea4b_row13_col4\" class=\"data row13 col4\" >0.020000</td>\n",
              "      <td id=\"T_8ea4b_row13_col5\" class=\"data row13 col5\" >0.240000</td>\n",
              "      <td id=\"T_8ea4b_row13_col6\" class=\"data row13 col6\" >0.020000</td>\n",
              "      <td id=\"T_8ea4b_row13_col7\" class=\"data row13 col7\" >0.020000</td>\n",
              "      <td id=\"T_8ea4b_row13_col8\" class=\"data row13 col8\" >0.020000</td>\n",
              "      <td id=\"T_8ea4b_row13_col9\" class=\"data row13 col9\" >0.020000</td>\n",
              "      <td id=\"T_8ea4b_row13_col10\" class=\"data row13 col10\" >3</td>\n",
              "    </tr>\n",
              "    <tr>\n",
              "      <th id=\"T_8ea4b_level0_row14\" class=\"row_heading level0 row14\" >Doc14</th>\n",
              "      <td id=\"T_8ea4b_row14_col0\" class=\"data row14 col0\" >0.760000</td>\n",
              "      <td id=\"T_8ea4b_row14_col1\" class=\"data row14 col1\" >0.030000</td>\n",
              "      <td id=\"T_8ea4b_row14_col2\" class=\"data row14 col2\" >0.030000</td>\n",
              "      <td id=\"T_8ea4b_row14_col3\" class=\"data row14 col3\" >0.030000</td>\n",
              "      <td id=\"T_8ea4b_row14_col4\" class=\"data row14 col4\" >0.030000</td>\n",
              "      <td id=\"T_8ea4b_row14_col5\" class=\"data row14 col5\" >0.030000</td>\n",
              "      <td id=\"T_8ea4b_row14_col6\" class=\"data row14 col6\" >0.030000</td>\n",
              "      <td id=\"T_8ea4b_row14_col7\" class=\"data row14 col7\" >0.030000</td>\n",
              "      <td id=\"T_8ea4b_row14_col8\" class=\"data row14 col8\" >0.030000</td>\n",
              "      <td id=\"T_8ea4b_row14_col9\" class=\"data row14 col9\" >0.030000</td>\n",
              "      <td id=\"T_8ea4b_row14_col10\" class=\"data row14 col10\" >0</td>\n",
              "    </tr>\n",
              "  </tbody>\n",
              "</table>\n"
            ],
            "text/plain": [
              "<pandas.io.formats.style.Styler at 0x7f34507c2e50>"
            ]
          },
          "metadata": {
            "tags": []
          },
          "execution_count": 60
        }
      ]
    },
    {
      "cell_type": "markdown",
      "metadata": {
        "id": "ZVM74wVDPyb0"
      },
      "source": [
        "Get the top 15 keywords each topic"
      ]
    },
    {
      "cell_type": "code",
      "metadata": {
        "id": "FFfMKQwHPy5-"
      },
      "source": [
        "# Show top n keywords for each topic\n",
        "def show_topics(vectorizer=vect, lda_model=lda, n_words=20):\n",
        "    keywords = np.array(vect.get_feature_names())\n",
        "    topic_keywords = []\n",
        "    for topic_weights in lda.components_:\n",
        "        top_keyword_locs = (-topic_weights).argsort()[:n_words]\n",
        "        topic_keywords.append(keywords.take(top_keyword_locs))\n",
        "    return topic_keywords\n",
        "topic_keywords = show_topics(vectorizer=vect, lda_model=lda, n_words=15)\n",
        "# Topic - Keywords Dataframe\n",
        "df_topic_keywords = pd.DataFrame(topic_keywords)\n",
        "df_topic_keywords.columns = ['Word '+str(i) for i in range(df_topic_keywords.shape[1])]\n",
        "df_topic_keywords.index = ['Topic '+str(i) for i in range(df_topic_keywords.shape[0])]\n",
        "df_topic_keywords"
      ],
      "execution_count": null,
      "outputs": []
    },
    {
      "cell_type": "markdown",
      "metadata": {
        "id": "TZZU3k8zP8w4"
      },
      "source": [
        "We need to infer topics according to their key words. For example: For topic 1, people talk about \"slavery\", \"racism\", \"labor\", we conclude that this topic is about \"racism\".\n",
        "Next, put the 10 topics we infered into the dataframe."
      ]
    },
    {
      "cell_type": "code",
      "metadata": {
        "colab": {
          "base_uri": "https://localhost:8080/",
          "height": 566
        },
        "id": "IUjqO0RHP4av",
        "outputId": "c0f5cd4d-a191-4827-d0a1-6a6c411650dd"
      },
      "source": [
        "Topics = [\"child marriage\", \"trafficking\", 'sex trafficking',\n",
        "          \"stalking\", \"human trafficking\", \"drug trafficking\", \"sexual violence\",\n",
        "          \"assault\", \"sexual violence\", \"gender violence\"]\n",
        "df_topic_keywords[\"Topics\"]=Topics\n",
        "df_topic_keywords"
      ],
      "execution_count": 62,
      "outputs": [
        {
          "output_type": "execute_result",
          "data": {
            "text/html": [
              "<div>\n",
              "<style scoped>\n",
              "    .dataframe tbody tr th:only-of-type {\n",
              "        vertical-align: middle;\n",
              "    }\n",
              "\n",
              "    .dataframe tbody tr th {\n",
              "        vertical-align: top;\n",
              "    }\n",
              "\n",
              "    .dataframe thead th {\n",
              "        text-align: right;\n",
              "    }\n",
              "</style>\n",
              "<table border=\"1\" class=\"dataframe\">\n",
              "  <thead>\n",
              "    <tr style=\"text-align: right;\">\n",
              "      <th></th>\n",
              "      <th>Word 0</th>\n",
              "      <th>Word 1</th>\n",
              "      <th>Word 2</th>\n",
              "      <th>Word 3</th>\n",
              "      <th>Word 4</th>\n",
              "      <th>Word 5</th>\n",
              "      <th>Word 6</th>\n",
              "      <th>Word 7</th>\n",
              "      <th>Word 8</th>\n",
              "      <th>Word 9</th>\n",
              "      <th>Word 10</th>\n",
              "      <th>Word 11</th>\n",
              "      <th>Word 12</th>\n",
              "      <th>Word 13</th>\n",
              "      <th>Word 14</th>\n",
              "      <th>Topics</th>\n",
              "    </tr>\n",
              "  </thead>\n",
              "  <tbody>\n",
              "    <tr>\n",
              "      <th>Topic 0</th>\n",
              "      <td>girls</td>\n",
              "      <td>violence</td>\n",
              "      <td>woman</td>\n",
              "      <td>assault</td>\n",
              "      <td>gun</td>\n",
              "      <td>problem</td>\n",
              "      <td>mean</td>\n",
              "      <td>give</td>\n",
              "      <td>wife</td>\n",
              "      <td>illegal</td>\n",
              "      <td>missing</td>\n",
              "      <td>women</td>\n",
              "      <td>called</td>\n",
              "      <td>needs</td>\n",
              "      <td>relationship</td>\n",
              "      <td>child marriage</td>\n",
              "    </tr>\n",
              "    <tr>\n",
              "      <th>Topic 1</th>\n",
              "      <td>violence</td>\n",
              "      <td>girls</td>\n",
              "      <td>human</td>\n",
              "      <td>today</td>\n",
              "      <td>little</td>\n",
              "      <td>boys</td>\n",
              "      <td>la</td>\n",
              "      <td>god</td>\n",
              "      <td>news</td>\n",
              "      <td>across</td>\n",
              "      <td>gender</td>\n",
              "      <td>girl</td>\n",
              "      <td>please</td>\n",
              "      <td>already</td>\n",
              "      <td>social</td>\n",
              "      <td>trafficking</td>\n",
              "    </tr>\n",
              "    <tr>\n",
              "      <th>Topic 2</th>\n",
              "      <td>marriage</td>\n",
              "      <td>gender</td>\n",
              "      <td>child</td>\n",
              "      <td>violence</td>\n",
              "      <td>im</td>\n",
              "      <td>age</td>\n",
              "      <td>girls</td>\n",
              "      <td>prostitution</td>\n",
              "      <td>family</td>\n",
              "      <td>children</td>\n",
              "      <td>legal</td>\n",
              "      <td>investigation</td>\n",
              "      <td>female</td>\n",
              "      <td>like</td>\n",
              "      <td>trans</td>\n",
              "      <td>sex trafficking</td>\n",
              "    </tr>\n",
              "    <tr>\n",
              "      <th>Topic 3</th>\n",
              "      <td>forced</td>\n",
              "      <td>like</td>\n",
              "      <td>violence</td>\n",
              "      <td>dont</td>\n",
              "      <td>woman</td>\n",
              "      <td>people</td>\n",
              "      <td>even</td>\n",
              "      <td>sexual</td>\n",
              "      <td>think</td>\n",
              "      <td>know</td>\n",
              "      <td>assault</td>\n",
              "      <td>parents</td>\n",
              "      <td>get</td>\n",
              "      <td>want</td>\n",
              "      <td>men</td>\n",
              "      <td>stalking</td>\n",
              "    </tr>\n",
              "    <tr>\n",
              "      <th>Topic 4</th>\n",
              "      <td>trafficking</td>\n",
              "      <td>discrimination</td>\n",
              "      <td>victims</td>\n",
              "      <td>support</td>\n",
              "      <td>sex</td>\n",
              "      <td>chose</td>\n",
              "      <td>rights</td>\n",
              "      <td>laws</td>\n",
              "      <td>find</td>\n",
              "      <td>something</td>\n",
              "      <td>every</td>\n",
              "      <td>fucking</td>\n",
              "      <td>fuck</td>\n",
              "      <td>envy</td>\n",
              "      <td>issues</td>\n",
              "      <td>human trafficking</td>\n",
              "    </tr>\n",
              "    <tr>\n",
              "      <th>Topic 5</th>\n",
              "      <td>underage</td>\n",
              "      <td>gaetz</td>\n",
              "      <td>matt</td>\n",
              "      <td>first</td>\n",
              "      <td>making</td>\n",
              "      <td>different</td>\n",
              "      <td>enough</td>\n",
              "      <td>shit</td>\n",
              "      <td>name</td>\n",
              "      <td>bad</td>\n",
              "      <td>time</td>\n",
              "      <td>married</td>\n",
              "      <td>child</td>\n",
              "      <td>two</td>\n",
              "      <td>talk</td>\n",
              "      <td>drug trafficking</td>\n",
              "    </tr>\n",
              "    <tr>\n",
              "      <th>Topic 6</th>\n",
              "      <td>assault</td>\n",
              "      <td>woman</td>\n",
              "      <td>charged</td>\n",
              "      <td>new</td>\n",
              "      <td>man</td>\n",
              "      <td>sexual</td>\n",
              "      <td>police</td>\n",
              "      <td>via</td>\n",
              "      <td>arrested</td>\n",
              "      <td>violence</td>\n",
              "      <td>involved</td>\n",
              "      <td>charges</td>\n",
              "      <td>crime</td>\n",
              "      <td>states</td>\n",
              "      <td>choose</td>\n",
              "      <td>sexual violence</td>\n",
              "    </tr>\n",
              "    <tr>\n",
              "      <th>Topic 7</th>\n",
              "      <td>trafficking</td>\n",
              "      <td>sex</td>\n",
              "      <td>girl</td>\n",
              "      <td>trump</td>\n",
              "      <td>young</td>\n",
              "      <td>epstein</td>\n",
              "      <td>without</td>\n",
              "      <td>maybe</td>\n",
              "      <td>biden</td>\n",
              "      <td>trafficked</td>\n",
              "      <td>party</td>\n",
              "      <td>long</td>\n",
              "      <td>maxwell</td>\n",
              "      <td>identity</td>\n",
              "      <td>court</td>\n",
              "      <td>assault</td>\n",
              "    </tr>\n",
              "    <tr>\n",
              "      <th>Topic 8</th>\n",
              "      <td>girls</td>\n",
              "      <td>woman</td>\n",
              "      <td>accused</td>\n",
              "      <td>old</td>\n",
              "      <td>stalking</td>\n",
              "      <td>year</td>\n",
              "      <td>real</td>\n",
              "      <td>exploitation</td>\n",
              "      <td>de</td>\n",
              "      <td>years</td>\n",
              "      <td>black</td>\n",
              "      <td>labor</td>\n",
              "      <td>using</td>\n",
              "      <td>death</td>\n",
              "      <td>person</td>\n",
              "      <td>sexual violence</td>\n",
              "    </tr>\n",
              "    <tr>\n",
              "      <th>Topic 9</th>\n",
              "      <td>girls</td>\n",
              "      <td>human</td>\n",
              "      <td>child</td>\n",
              "      <td>women</td>\n",
              "      <td>marriages</td>\n",
              "      <td>violence</td>\n",
              "      <td>state</td>\n",
              "      <td>love</td>\n",
              "      <td>sex</td>\n",
              "      <td>children</td>\n",
              "      <td>anything</td>\n",
              "      <td>always</td>\n",
              "      <td>slavery</td>\n",
              "      <td>young</td>\n",
              "      <td>lol</td>\n",
              "      <td>gender violence</td>\n",
              "    </tr>\n",
              "  </tbody>\n",
              "</table>\n",
              "</div>"
            ],
            "text/plain": [
              "              Word 0          Word 1  ...       Word 14             Topics\n",
              "Topic 0        girls        violence  ...  relationship     child marriage\n",
              "Topic 1     violence           girls  ...        social        trafficking\n",
              "Topic 2     marriage          gender  ...         trans    sex trafficking\n",
              "Topic 3       forced            like  ...           men           stalking\n",
              "Topic 4  trafficking  discrimination  ...        issues  human trafficking\n",
              "Topic 5     underage           gaetz  ...          talk   drug trafficking\n",
              "Topic 6      assault           woman  ...        choose    sexual violence\n",
              "Topic 7  trafficking             sex  ...         court            assault\n",
              "Topic 8        girls           woman  ...        person    sexual violence\n",
              "Topic 9        girls           human  ...           lol    gender violence\n",
              "\n",
              "[10 rows x 16 columns]"
            ]
          },
          "metadata": {
            "tags": []
          },
          "execution_count": 62
        }
      ]
    },
    {
      "cell_type": "markdown",
      "metadata": {
        "id": "1fclcuMfWkjt"
      },
      "source": [
        "### Predict Topics using LDA model\n",
        "Assuming that you have already built the topic model, you need to take the text through the same routine of transformations and before predicting the topic.\n",
        "For our case, the order of transformations is:\n",
        "sent_to_words() –> Stemming() –> vectorizer.transform() –> best_lda_model.transform()\n",
        "You need to apply these transformations in the same order. So to simplify it, let’s combine these steps into a predict_topic() function."
      ]
    },
    {
      "cell_type": "code",
      "metadata": {
        "id": "7VORSnYRWHE8"
      },
      "source": [
        "%%capture\n",
        "import gensim\n",
        "from sklearn.feature_extraction.text import CountVectorizer\n",
        "\n",
        "count_vect = CountVectorizer(min_df=20, max_df=0.2, stop_words='english', \n",
        "                       token_pattern='(?u)\\\\b\\\\w\\\\w\\\\w+\\\\b')\n",
        "# Fit and transform\n",
        "X = count_vect.fit_transform(df.tweets_without_stopwords)\n",
        "# Convert sparse matrix to gensim corpus.\n",
        "corpus = gensim.matutils.Sparse2Corpus(X, documents_columns=False)\n",
        " \n",
        "# Mapping from word IDs to words (To be used in LdaModel's id2word parameter)\n",
        "id_map = dict((v, k) for k, v in vect.vocabulary_.items())\n",
        " \n",
        " \n",
        "# Use the gensim.models.ldamodel.LdaModel constructor to estimate \n",
        "# LDA model parameters on the corpus, and save to the variable `ldamodel`\n",
        " \n",
        "ldamodel = gensim.models.LdaMulticore(corpus=corpus, id2word=id_map, passes=2,\n",
        "                                               random_state=5, num_topics=10, workers=2)\n",
        "\n"
      ],
      "execution_count": null,
      "outputs": []
    },
    {
      "cell_type": "code",
      "metadata": {
        "id": "uneDtSA-shdG"
      },
      "source": [
        "for idx, topic in ldamodel.print_topics(-1):\n",
        "    print(\"Topic: {} \\nWords: {}\".format(idx, topic))\n",
        "    print(\"\\n\")"
      ],
      "execution_count": null,
      "outputs": []
    },
    {
      "cell_type": "markdown",
      "metadata": {
        "id": "Ckf0vAiQGByZ"
      },
      "source": [
        "### Topic Distribution"
      ]
    },
    {
      "cell_type": "code",
      "metadata": {
        "id": "y1PbAjAf120a"
      },
      "source": [
        "def topic_distribution(string_input):\n",
        "    string_input = [string_input]\n",
        "    # Fit and transform\n",
        "    X = vect.transform(string_input)\n",
        " \n",
        "    # Convert sparse matrix to gensim corpus.\n",
        "    corpus = gensim.matutils.Sparse2Corpus(X, documents_columns=False)\n",
        " \n",
        "    output = list(ldamodel[corpus])[0]\n",
        " \n",
        "    return output\n",
        "  \n",
        "my_document = \"its about the fear every woman has about sexual violence\"\n",
        " \n",
        "topic_distribution(my_document)"
      ],
      "execution_count": null,
      "outputs": []
    },
    {
      "cell_type": "markdown",
      "metadata": {
        "id": "3wF1G0Ls59rE"
      },
      "source": [
        "### Cluster documents that share similar topics and plot\n",
        "You can use k-means clustering on the document-topic probabilioty matrix, which is nothing but lda_output object. Since out best model has 15 clusters, I’ve set n_clusters=15 in KMeans().\n",
        "Alternately, you could avoid k-means and instead, assign the cluster as the topic column number with the highest probability score.\n",
        "We now have the cluster number. But we also need the X and Y columns to draw the plot.\n",
        "For the X and Y, you can use SVD on the lda_output object with n_components as 2. SVD ensures that these two columns captures the maximum possible amount of information from lda_output in the first 2 components."
      ]
    },
    {
      "cell_type": "code",
      "metadata": {
        "id": "LoJhmvtUcdLb"
      },
      "source": [
        "%%capture\n",
        "# Construct the k-means clusters\n",
        "from sklearn.cluster import KMeans\n",
        "clusters = KMeans(n_clusters=15, random_state=100).fit_predict(lda_output)\n",
        "# Build the Singular Value Decomposition(SVD) model\n",
        "svd_model = TruncatedSVD(n_components=2)  # 2 components\n",
        "lda_output_svd = svd_model.fit_transform(lda_output)\n",
        "# X and Y axes of the plot using SVD decomposition\n",
        "x = lda_output_svd[:, 0]\n",
        "y = lda_output_svd[:, 1]"
      ],
      "execution_count": 37,
      "outputs": []
    },
    {
      "cell_type": "code",
      "metadata": {
        "colab": {
          "base_uri": "https://localhost:8080/"
        },
        "id": "4vwWsfu-5yio",
        "outputId": "83ad6c3c-e6e7-42b1-a434-0ff1b4281ad9"
      },
      "source": [
        "# Weights for the 15 columns of lda_output, for each component\n",
        "print(\"Component's weights: \\n\", np.round(svd_model.components_, 2))\n",
        "# Percentage of total information in 'lda_output' explained by the two components\n",
        "print(\"Perc of Variance Explained: \\n\", np.round(svd_model.explained_variance_ratio_, 2))"
      ],
      "execution_count": 38,
      "outputs": [
        {
          "output_type": "stream",
          "text": [
            "Component's weights: \n",
            " [[ 0.6   0.21  0.23  0.37  0.34  0.31  0.29  0.15  0.17  0.24]\n",
            " [ 0.79 -0.08 -0.1  -0.32 -0.28 -0.22 -0.34 -0.06 -0.05 -0.13]]\n",
            "Perc of Variance Explained: \n",
            " [0.02 0.23]\n"
          ],
          "name": "stdout"
        }
      ]
    },
    {
      "cell_type": "markdown",
      "metadata": {
        "id": "sAyNqcoJ6LwX"
      },
      "source": [
        "We have the X, Y and the cluster number for each document.\n",
        "Let’s plot the document along the two SVD decomposed components. The color of points represents the cluster number (in this case) or topic number."
      ]
    },
    {
      "cell_type": "code",
      "metadata": {
        "colab": {
          "base_uri": "https://localhost:8080/",
          "height": 764
        },
        "id": "lA_BPimd6Iz6",
        "outputId": "b2297d74-a9b9-48d8-f099-cf24b27800ad"
      },
      "source": [
        "# Plot\n",
        "plt.figure(figsize=(12, 12))\n",
        "plt.scatter(x, y, c=clusters)\n",
        "plt.xlabel('Component 2')\n",
        "plt.ylabel('Component 1')\n",
        "plt.legend()\n",
        "plt.title(\"Segregation of Topic Clusters\", )"
      ],
      "execution_count": 39,
      "outputs": [
        {
          "output_type": "stream",
          "text": [
            "No handles with labels found to put in legend.\n"
          ],
          "name": "stderr"
        },
        {
          "output_type": "execute_result",
          "data": {
            "text/plain": [
              "Text(0.5, 1.0, 'Segregation of Topic Clusters')"
            ]
          },
          "metadata": {
            "tags": []
          },
          "execution_count": 39
        },
        {
          "output_type": "display_data",
          "data": {
            "image/png": "[encoded data removed]",
            "text/plain": [
              "<Figure size 864x864 with 1 Axes>"
            ]
          },
          "metadata": {
            "tags": [],
            "needs_background": "light"
          }
        }
      ]
    },
    {
      "cell_type": "markdown",
      "metadata": {
        "id": "5tXYbTbh6SQw"
      },
      "source": [
        "Get similar documents for any given piece of text?\n",
        "Once you know the probaility of topics for a given document (using predict_topic()), compute the euclidean distance with the probability scores of all other documents.\n",
        "\n",
        "The most similar documents are the ones with the smallest distance."
      ]
    },
    {
      "cell_type": "code",
      "metadata": {
        "id": "Jcrjq5-p6mNL"
      },
      "source": [
        "# Visualize the topics\n",
        "import pyLDAvis\n",
        "import pyLDAvis.gensim_models as gensimvis\n",
        "pyLDAvis.enable_notebook()\n",
        "\n",
        "# feed the LDA model into the pyLDAvis instance.\n",
        "pyLDAvis.enable_notebook()\n",
        "vis = gensimvis.prepare(lda, vect_text, vect)\n",
        "vis"
      ],
      "execution_count": null,
      "outputs": []
    },
    {
      "cell_type": "markdown",
      "metadata": {
        "id": "q2XmIxWE9990"
      },
      "source": [
        "Get similar documents:"
      ]
    },
    {
      "cell_type": "code",
      "metadata": {
        "id": "xiLAyguj9-r3"
      },
      "source": [
        "mytext = [“I think they are really helpful”]\n",
        "doc_ids, docs = similar_documents(text=mytext, doc_topic_probs=lda_output, documents = data, top_n=1, verbose=True)\n",
        "print(‘\\n’, docs[0][:500])\n",
        "print()"
      ],
      "execution_count": null,
      "outputs": []
    }
  ]
}