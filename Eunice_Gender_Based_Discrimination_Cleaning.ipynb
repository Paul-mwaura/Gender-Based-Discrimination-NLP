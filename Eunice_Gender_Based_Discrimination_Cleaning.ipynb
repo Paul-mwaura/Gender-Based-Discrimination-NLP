{
  "nbformat": 4,
  "nbformat_minor": 0,
  "metadata": {
    "colab": {
      "name": "Eunice Gender Based Discrimination Cleaning.ipynb",
      "provenance": [],
      "collapsed_sections": [],
      "toc_visible": true,
      "include_colab_link": true
    },
    "kernelspec": {
      "name": "python3",
      "display_name": "Python 3"
    },
    "language_info": {
      "name": "python"
    }
  },
  "cells": [
    {
      "cell_type": "markdown",
      "metadata": {
        "id": "view-in-github",
        "colab_type": "text"
      },
      "source": [
        "<a href=\"https://colab.research.google.com/github/sylviawanjiku/Gender-Based-Discrimination-NLP/blob/main/Eunice_Gender_Based_Discrimination_Cleaning.ipynb\" target=\"_parent\"><img src=\"https://colab.research.google.com/assets/colab-badge.svg\" alt=\"Open In Colab\"/></a>"
      ]
    },
    {
      "cell_type": "markdown",
      "metadata": {
        "id": "k_prtxheoeGN"
      },
      "source": [
        "### Import Libraries"
      ]
    },
    {
      "cell_type": "code",
      "metadata": {
        "id": "18GB8GF4dTgx"
      },
      "source": [
        "%%capture\n",
        "!pip install transformers\n",
        "!pip install git+https://github.com/nexxt-intelligence/DeepMoji@tf-keras\n",
        "!pip install wordcloud matplotlib\n",
        "!pip3 install sweetviz\n",
        "!pip install emojis"
      ],
      "execution_count": 310,
      "outputs": []
    },
    {
      "cell_type": "code",
      "metadata": {
        "colab": {
          "base_uri": "https://localhost:8080/"
        },
        "id": "etgvY17dfVX5",
        "outputId": "690d1cbc-bc30-4c73-e5b7-f5dfc5ecdd68"
      },
      "source": [
        "import pandas as pd\n",
        "import numpy as np\n",
        "import matplotlib.pyplot as plt\n",
        "%matplotlib inline\n",
        "plt.style.use('fivethirtyeight')\n",
        "\n",
        "import re\n",
        "import nltk          #for removing stopwords\n",
        "import string\n",
        "from string import punctuation\n",
        "from nltk.stem import SnowballStemmer\n",
        "from nltk.corpus import stopwords\n",
        "\n",
        "nltk.download('stopwords')\n",
        "stop = stopwords.words('english')\n",
        "nltk.download(\"punkt\")\n",
        "nltk.download(\"wordnet\")\n",
        "\n",
        "from wordcloud import WordCloud,STOPWORDS\n",
        "\n",
        "from sklearn.feature_extraction.text import TfidfVectorizer, CountVectorizer\n",
        "from sklearn import linear_model\n",
        "from sklearn.model_selection import train_test_split"
      ],
      "execution_count": 308,
      "outputs": [
        {
          "output_type": "stream",
          "text": [
            "[nltk_data] Downloading package stopwords to /root/nltk_data...\n",
            "[nltk_data]   Package stopwords is already up-to-date!\n",
            "[nltk_data] Downloading package punkt to /root/nltk_data...\n",
            "[nltk_data]   Package punkt is already up-to-date!\n",
            "[nltk_data] Downloading package wordnet to /root/nltk_data...\n",
            "[nltk_data]   Package wordnet is already up-to-date!\n"
          ],
          "name": "stdout"
        }
      ]
    },
    {
      "cell_type": "markdown",
      "metadata": {
        "id": "4ceimmzBohQ0"
      },
      "source": [
        "### Loading the Dataset"
      ]
    },
    {
      "cell_type": "code",
      "metadata": {
        "id": "qmrhdqcugJ3K"
      },
      "source": [
        "df = pd.read_csv('GBV_data.csv',encoding='utf-8')\n",
        "df.head()"
      ],
      "execution_count": null,
      "outputs": []
    },
    {
      "cell_type": "code",
      "metadata": {
        "id": "hfkhMkiCH_Bu"
      },
      "source": [
        "df['tweet'].head(30)"
      ],
      "execution_count": null,
      "outputs": []
    },
    {
      "cell_type": "code",
      "metadata": {
        "id": "UK5Byi3kEBJD"
      },
      "source": [
        "df.info()"
      ],
      "execution_count": null,
      "outputs": []
    },
    {
      "cell_type": "code",
      "metadata": {
        "id": "UK_y4jV2iDKV"
      },
      "source": [
        "df.columns\n",
        "df['source_file'].value_counts()"
      ],
      "execution_count": null,
      "outputs": []
    },
    {
      "cell_type": "code",
      "metadata": {
        "id": "xECWraSwgnVL"
      },
      "source": [
        "df = df.iloc[:, 1:]\n",
        "df.head(2)"
      ],
      "execution_count": null,
      "outputs": []
    },
    {
      "cell_type": "code",
      "metadata": {
        "id": "ZM9tRJnjo12a"
      },
      "source": [
        "df.describe().T"
      ],
      "execution_count": null,
      "outputs": []
    },
    {
      "cell_type": "markdown",
      "metadata": {
        "id": "v1tMczn0u58j"
      },
      "source": [
        "###General Descriptive Summary"
      ]
    },
    {
      "cell_type": "code",
      "metadata": {
        "id": "LUKPPfwhu80r"
      },
      "source": [
        "count = df['tweet'].str.split().str.len()\n",
        "count.index =count.index.astype(str)+ ' words:'\n",
        "count.sort_index(inplace=True)"
      ],
      "execution_count": null,
      "outputs": []
    },
    {
      "cell_type": "code",
      "metadata": {
        "id": "GF0xriS4vLJx"
      },
      "source": [
        "print('Total number of words:', count.sum(), 'words')"
      ],
      "execution_count": null,
      "outputs": []
    },
    {
      "cell_type": "code",
      "metadata": {
        "id": "VDd7wn0qvPQa"
      },
      "source": [
        "print('Mean number of words per tweet:',round(count.mean(),2), 'words')"
      ],
      "execution_count": null,
      "outputs": []
    },
    {
      "cell_type": "code",
      "metadata": {
        "id": "xRPbTWZEvTVl"
      },
      "source": [
        "df['tweet_length'] =df['tweet'].str.len()\n",
        "print('Total length of the dataset:',df['tweet_length'].sum(), 'words')"
      ],
      "execution_count": null,
      "outputs": []
    },
    {
      "cell_type": "code",
      "metadata": {
        "id": "2ChiFmYkvfdR"
      },
      "source": [
        "print('Mean length of a tweet is:',round(df.tweet_length.mean(),0), 'characters')\n",
        "df = df.drop('tweet_length',axis=1)"
      ],
      "execution_count": null,
      "outputs": []
    },
    {
      "cell_type": "markdown",
      "metadata": {
        "id": "kByFh6VcwWy2"
      },
      "source": [
        "###Hashtag Plot"
      ]
    },
    {
      "cell_type": "code",
      "metadata": {
        "id": "yvrrvKi21vlK"
      },
      "source": [
        "# NORMALIZATION - converts all tweets into lowercase\n",
        "df['tidy_tweet'] = df['tweet'].str.lower().apply(str)"
      ],
      "execution_count": null,
      "outputs": []
    },
    {
      "cell_type": "code",
      "metadata": {
        "id": "j5SUH_CzwZct"
      },
      "source": [
        "#get all hashtags\n",
        "df['hashtags'] = df['tidy_tweet'].apply(lambda twt : re.findall(r\"#(\\w+)\", twt))"
      ],
      "execution_count": null,
      "outputs": []
    },
    {
      "cell_type": "code",
      "metadata": {
        "id": "JHJrD45QwyT1"
      },
      "source": [
        "from collections import Counter\n",
        "\n",
        "d = Counter(df.hashtags.sum())\n",
        "df_hashtags = pd.DataFrame([d]).T"
      ],
      "execution_count": null,
      "outputs": []
    },
    {
      "cell_type": "code",
      "metadata": {
        "id": "O83YBOHaw0aW"
      },
      "source": [
        "df_hashtags.columns = ['freq']\n",
        "df_hashtags.freq.sum()"
      ],
      "execution_count": null,
      "outputs": []
    },
    {
      "cell_type": "code",
      "metadata": {
        "id": "MSE-eYrcw3g0"
      },
      "source": [
        "df_hashtags.sort_values(by=['freq'], ascending=False, inplace=True)"
      ],
      "execution_count": null,
      "outputs": []
    },
    {
      "cell_type": "code",
      "metadata": {
        "id": "MTTrVCt8w5HO"
      },
      "source": [
        "df_hashtags.head(30)"
      ],
      "execution_count": null,
      "outputs": []
    },
    {
      "cell_type": "code",
      "metadata": {
        "id": "RyERWPFnw8mO"
      },
      "source": [
        "# We drop 'sex' and 'trafficking' hashtags as these were the searching filters\n",
        "df_hashtags = df_hashtags.drop(df_hashtags[df_hashtags.index.values=='trafficking'].index)\n",
        "df_hashtags = df_hashtags.drop(df_hashtags[df_hashtags.index.values=='sex'].index)"
      ],
      "execution_count": null,
      "outputs": []
    },
    {
      "cell_type": "code",
      "metadata": {
        "colab": {
          "base_uri": "https://localhost:8080/",
          "height": 712
        },
        "id": "_dgZE_1dw_xP",
        "outputId": "24ccddeb-19e7-46d2-88e6-a55a11eb8e8a"
      },
      "source": [
        "# Visualization of Top 25 Hashtags\n",
        "# Plotting\n",
        "import seaborn as sns\n",
        "import matplotlib.pyplot as plt\n",
        "\n",
        "labels = df_hashtags.head(25).index.values.tolist()\n",
        "freq = df_hashtags['freq'].head(25).values.tolist()\n",
        "index = np.arange(len(freq))\n",
        "\n",
        "print(\"Among 53.939 Tweets, 15557 Hashtags were used.\")\n",
        "plt.figure(figsize=(12,9))\n",
        "plt.bar(index, freq, alpha=0.8)\n",
        "plt.xlabel('Hashtags', fontsize=13)\n",
        "plt.ylabel('Frequency', fontsize=13)\n",
        "plt.xticks(index, labels, fontsize=11, rotation=90, fontweight=\"bold\") \n",
        "plt.title('Top 25 Hashtags of dataset', fontsize=12, fontweight=\"bold\")\n",
        "plt.show()"
      ],
      "execution_count": 309,
      "outputs": [
        {
          "output_type": "stream",
          "text": [
            "Among 53.939 Tweets, 15557 Hashtags were used.\n"
          ],
          "name": "stdout"
        },
        {
          "output_type": "display_data",
          "data": {
            "image/png": "[encoded data removed]",
            "text/plain": [
              "<Figure size 864x648 with 1 Axes>"
            ]
          },
          "metadata": {
            "tags": []
          }
        }
      ]
    },
    {
      "cell_type": "markdown",
      "metadata": {
        "id": "wuQaLEewy5A8"
      },
      "source": [
        "#Emoji Processing"
      ]
    },
    {
      "cell_type": "markdown",
      "metadata": {
        "id": "4vKXG0Rhy408"
      },
      "source": [
        "##Fetch emoji from tweets"
      ]
    },
    {
      "cell_type": "code",
      "metadata": {
        "id": "2c76spWTy3ZN"
      },
      "source": [
        "emoji_tweets = df['tweet'].apply(str)"
      ],
      "execution_count": null,
      "outputs": []
    },
    {
      "cell_type": "code",
      "metadata": {
        "id": "_PMGdX47zFxk"
      },
      "source": [
        "import itertools\n",
        "import emojis\n",
        "\n",
        "emojis_list=[]\n",
        "\n",
        "for tweet in emoji_tweets:\n",
        "  emoji_present = list(emojis.get(tweet))\n",
        "  if emoji_present:\n",
        "    emojis_list.append(emoji_present)\n",
        "    # One-Liner to union a list of sets\n",
        "    emojis_list = list(itertools.chain.from_iterable(emojis_list))"
      ],
      "execution_count": null,
      "outputs": []
    },
    {
      "cell_type": "code",
      "metadata": {
        "id": "S_DWk1R4zKDo"
      },
      "source": [
        "emojis_updated_list = [x for x in emojis_list if x !='️']\n",
        "print(emojis_updated_list)"
      ],
      "execution_count": null,
      "outputs": []
    },
    {
      "cell_type": "code",
      "metadata": {
        "id": "jAwckmikzQ1B"
      },
      "source": [
        "from collections import Counter\n",
        "Counter(emojis_updated_list).most_common()"
      ],
      "execution_count": null,
      "outputs": []
    },
    {
      "cell_type": "markdown",
      "metadata": {
        "id": "M37k3meMzYSM"
      },
      "source": [
        "##Emoji word cloud"
      ]
    },
    {
      "cell_type": "code",
      "metadata": {
        "id": "2Vk885NWzmK1"
      },
      "source": [
        "import string\n",
        "from wordcloud import WordCloud\n",
        "from collections import Counter\n",
        "import matplotlib.pyplot as plt\n",
        "\n",
        "class EmojiCloud:\n",
        "    def __init__(self,\n",
        "                 font_path='Symbola.ttf',\n",
        "                 color='yellow'):\n",
        "        self.font_path = font_path\n",
        "        self.color = color\n",
        "        self.word_cloud = self.initialize_wordcloud()\n",
        "        self.emoji_probability = None\n",
        "\n",
        "    def initialize_wordcloud(self):\n",
        "        word_cloud = WordCloud(font_path=self.font_path,\n",
        "                               width=2000,\n",
        "                               height=1000,\n",
        "                               background_color='white',\n",
        "                               random_state=42,\n",
        "                               collocations=False)\n",
        "        return word_cloud\n",
        "\n",
        "    def color_func(self, word, font_size, position, orientation, random_state=None,\n",
        "                   **kwargs):\n",
        "        hue_saturation = {\n",
        "            'yellow': '42, 88%',\n",
        "            'blue': '194, 49%',\n",
        "            'green': '159, 42%',\n",
        "            'grey': '45, 2%'\n",
        "        }.get(self.color)\n",
        "\n",
        "        current_emoji_probability = self.emoji_probability[word]\n",
        "        # Use 50% opacity for emojis with 20% or more coverage\n",
        "        if current_emoji_probability >= 0.20:\n",
        "            opacity = 50\n",
        "        else:\n",
        "            # Use an opacity between 60 to 65 for other emojis\n",
        "            opacity = 65 - current_emoji_probability/0.2 * 5\n",
        "        return f\"hsl({hue_saturation},{opacity}%)\"\n",
        "\n",
        "    def generate(self, emojis):\n",
        "        emoji_frequencies = Counter(emojis)\n",
        "        total_count = len(emojis)\n",
        "        \n",
        "        # Calculate probabilities of emojis from frequency counts\n",
        "        self.emoji_probability = {emoji: count/total_count for emoji, count in emoji_frequencies.items()}\n",
        "        \n",
        "        # Use wordcloud library to generate a wordcloud of emojis\n",
        "        wc = self.word_cloud.generate_from_frequencies(emoji_frequencies)\n",
        "        \n",
        "        # Recolor emojis according to their frequency\n",
        "        plt.imshow(wc.recolor(color_func=self.color_func, random_state=42),\n",
        "                   interpolation=\"bilinear\")\n",
        "        plt.axis(\"off\")"
      ],
      "execution_count": null,
      "outputs": []
    },
    {
      "cell_type": "code",
      "metadata": {
        "id": "WfDteu-tzrbN"
      },
      "source": [
        "emoji_cloud = EmojiCloud(font_path='./Symbola.ttf', color='green')\n",
        "emoji_cloud.generate(emojis_updated_list)"
      ],
      "execution_count": null,
      "outputs": []
    },
    {
      "cell_type": "markdown",
      "metadata": {
        "id": "5SsjyFhMoy7u"
      },
      "source": [
        "# Data Cleaning"
      ]
    },
    {
      "cell_type": "markdown",
      "metadata": {
        "id": "n126bIHO7oZ7"
      },
      "source": [
        "##Drop N/A and remove duplicates"
      ]
    },
    {
      "cell_type": "code",
      "metadata": {
        "id": "3ON0Ko98tJqM"
      },
      "source": [
        "df.dropna(inplace=True)\n",
        "df.isna().sum()"
      ],
      "execution_count": null,
      "outputs": []
    },
    {
      "cell_type": "code",
      "metadata": {
        "id": "a8rPt9aBtMKI"
      },
      "source": [
        "df.duplicated().sum()"
      ],
      "execution_count": null,
      "outputs": []
    },
    {
      "cell_type": "code",
      "metadata": {
        "id": "XGkw6YDTz7iI"
      },
      "source": [
        "df.drop_duplicates(inplace=True)\n",
        "df.duplicated().sum()"
      ],
      "execution_count": null,
      "outputs": []
    },
    {
      "cell_type": "markdown",
      "metadata": {
        "id": "Ou5LxEpts_Qc"
      },
      "source": [
        "## Text Preprocessing"
      ]
    },
    {
      "cell_type": "code",
      "metadata": {
        "id": "i32mWAkGtvqx"
      },
      "source": [
        "tweet = df['tweet']\n",
        "tweet[6] "
      ],
      "execution_count": null,
      "outputs": []
    },
    {
      "cell_type": "code",
      "metadata": {
        "id": "U5drFKhltIvO"
      },
      "source": [
        "tweets = []\n",
        "for sent in tweet:\n",
        "  sent = re.sub('@[\\w]+','',str(sent))\n",
        "  tweets.append(sent)"
      ],
      "execution_count": null,
      "outputs": []
    },
    {
      "cell_type": "code",
      "metadata": {
        "id": "CWjeOTKfua_E"
      },
      "source": [
        "tweets[:6]"
      ],
      "execution_count": null,
      "outputs": []
    },
    {
      "cell_type": "code",
      "metadata": {
        "id": "LpYQSHYDwCpm"
      },
      "source": [
        "df.columns"
      ],
      "execution_count": null,
      "outputs": []
    },
    {
      "cell_type": "code",
      "metadata": {
        "id": "nsfuWVj_vYmg"
      },
      "source": [
        "df['new_tweets'] = tweets\n",
        "# rearrange the order of the columns.\n",
        "df = df[['date', 'time', 'username', 'tweet', 'new_tweets', 'replies_count', 'retweets_count','likes_count']]\n",
        "df.head(2)"
      ],
      "execution_count": null,
      "outputs": []
    },
    {
      "cell_type": "markdown",
      "metadata": {
        "id": "xAFoIVyhkZA7"
      },
      "source": [
        "## Rename the columns"
      ]
    },
    {
      "cell_type": "code",
      "metadata": {
        "id": "C8BV2ox_Ihpi"
      },
      "source": [
        "data = df.rename(columns = {'replies_count':'replies',\n",
        "                            'retweets_count':'retweets', 'likes_count':'likes'}, inplace=False)\n",
        "\n",
        "df.columns"
      ],
      "execution_count": null,
      "outputs": []
    },
    {
      "cell_type": "code",
      "metadata": {
        "id": "TkRFYjavJ7d8"
      },
      "source": [
        "data.columns"
      ],
      "execution_count": null,
      "outputs": []
    },
    {
      "cell_type": "code",
      "metadata": {
        "id": "ZPqbA1qB3QUb"
      },
      "source": [
        "data = data[['username', 'new_tweets', 'replies', 'retweets', 'likes']]\n",
        "data.head(2)"
      ],
      "execution_count": null,
      "outputs": []
    },
    {
      "cell_type": "code",
      "metadata": {
        "id": "q79xxvcl1Jfy"
      },
      "source": [
        "SPECIAL_TOKENS = {\n",
        "    'quoted': 'quoted_item',\n",
        "    'non-ascii': 'non_ascii_word',\n",
        "    'undefined': 'something'\n",
        "}\n",
        "\n",
        "def cleaning(text, stem_words=True):    \n",
        "    def pad_str(s):\n",
        "        return ' '+s+' '\n",
        "    \n",
        "    if pd.isnull(text):\n",
        "        return ''\n",
        "\n",
        "    stops = set(stopwords.words(\"english\"))\n",
        "    # Clean the text, with the option to stem words.\n",
        "    \n",
        "    # Empty question\n",
        "    \n",
        "    if type(text) != str or text=='':\n",
        "        return ''\n",
        "\n",
        "    # Clean the text\n",
        "    text = str(text).lower()\n",
        "    text = re.sub('\\[.*?\\]', '', text)\n",
        "    text = re.sub('https?://\\S+|www\\.\\S+', '', text)\n",
        "    text = re.sub('<.*?>+', '', text)\n",
        "    text = re.sub(\"[%s]\" % re.escape(string.punctuation), '', text)\n",
        "    text = re.sub('\\n', '', text)\n",
        "    text = re.sub(\"\\w*\\d\\w*\", \"\", text)\n",
        "\n",
        "\n",
        "    text = re.sub(\"\\'s\", \" \", text) \n",
        "    text = re.sub(\" whats \", \" what is \", text, flags=re.IGNORECASE)\n",
        "    text = re.sub(\"\\'ve\", \" have \", text)\n",
        "    text = re.sub(\"can't\", \"can not\", text)\n",
        "    text = re.sub(\"n't\", \" not \", text)\n",
        "    text = re.sub(\"i'm\", \"i am\", text, flags=re.IGNORECASE)\n",
        "    text = re.sub(\"\\'re\", \" are \", text)\n",
        "    text = re.sub(\"\\'d\", \" would \", text)\n",
        "    text = re.sub(\"\\'ll\", \" will \", text)\n",
        "    text = re.sub(\"e\\.g\\.\", \" eg \", text, flags=re.IGNORECASE)\n",
        "    text = re.sub(\"(\\d+)(kK)\", \" \\g<1>000 \", text)\n",
        "    text = re.sub(\"e-mail\", \" email \", text, flags=re.IGNORECASE)\n",
        "    text = re.sub(\"\\(s\\)\", \" \", text, flags=re.IGNORECASE)\n",
        "    text = re.sub(\"[c-fC-F]\\:\\/\", \" disk \", text)\n",
        "    \n",
        "    # remove comma between numbers, i.e. 15,000 -> 15000\n",
        "    \n",
        "    text = re.sub('(?<=[0-9])\\,(?=[0-9])', \"\", text)\n",
        "    \n",
        "    ## all numbers should separate from words, this is too aggressive\n",
        "    \n",
        "    def pad_number(pattern):\n",
        "        matched_string = pattern.group(0)\n",
        "        return pad_str(matched_string)\n",
        "    text = re.sub('[0-9]+', pad_number, text)\n",
        "    \n",
        "    # add padding to punctuations and special chars, we still need them later\n",
        "    \n",
        "    text = re.sub('\\$', \" dollar \", text)\n",
        "    text = re.sub('\\%', \" percent \", text)\n",
        "    text = re.sub('\\&', \" and \", text)\n",
        "    text = re.sub('amp', \"\", text)\n",
        "    \n",
        "    def pad_pattern(pattern):\n",
        "       matched_string = pattern.group(0)\n",
        "       return pad_str(matched_string)\n",
        "    text = re.sub('[\\!\\?\\@\\^\\+\\*\\/\\,\\~\\|\\`\\=\\:\\;\\.\\#\\\\\\]', pad_pattern, text) \n",
        "        \n",
        "    text = re.sub('[^\\x00-\\x7F]+', pad_str(SPECIAL_TOKENS['non-ascii']), text) # replace non-ascii word with special word\n",
        "    \n",
        "    \n",
        "    text = [c for c in text if c not in string.punctuation]\n",
        "    text = [c for c in text if c != '\\n'] # Removing newline\n",
        "    text = ''.join(text)\n",
        "    text = text.split('https')[0] # Remove links\n",
        "    \n",
        "    # replace the float numbers with a random number, it will be parsed as number afterward, and also been replaced with word \"number\"\n",
        "    \n",
        "    text = re.sub('[0-9]+\\.[0-9]+', \" 87 \", text)\n",
        "    \n",
        "    text = re.sub(\"[^a-zA-Z]\",  # Search for all non-letters\n",
        "                          \" \",          # Replace all non-letters with spaces\n",
        "                          str(text))\n",
        "    \n",
        "    # Remove punctuation from text\n",
        "    text = ''.join([c for c in text if c not in punctuation]).lower()\n",
        "       # Return a list of words\n",
        "    return text"
      ],
      "execution_count": null,
      "outputs": []
    },
    {
      "cell_type": "code",
      "metadata": {
        "id": "CFLh06pmJefj"
      },
      "source": [
        "# Clean the tweets.\n",
        "data['clean_tweets'] = data['new_tweets'].apply(cleaning)\n",
        "data.head(5)"
      ],
      "execution_count": null,
      "outputs": []
    },
    {
      "cell_type": "code",
      "metadata": {
        "id": "IFsi4ksiJqb4"
      },
      "source": [
        "def nonasciiword (text):\n",
        "  text = re.sub(\"nonasciiword\",\"\",text)\n",
        "\n",
        "  return text\n",
        "\n",
        "data['clean_tweets'] = data['clean_tweets'].apply(nonasciiword)\n",
        "data.head(3)"
      ],
      "execution_count": null,
      "outputs": []
    },
    {
      "cell_type": "code",
      "metadata": {
        "id": "Tahsot0xxcJf"
      },
      "source": [
        "# Exclude stopwords with Python's list comprehension and pandas.DataFrame.apply.\n",
        "data['tweets_without_stopwords'] = data['clean_tweets'].apply(lambda x: ' '.join([word for word in x.split() if word not in (stop)]))\n",
        "data = data[['username', 'new_tweets', 'clean_tweets', 'tweets_without_stopwords', 'replies', 'retweets','likes']]\n",
        "data.head(3)"
      ],
      "execution_count": null,
      "outputs": []
    },
    {
      "cell_type": "code",
      "metadata": {
        "id": "7JlZYdRn3rg0"
      },
      "source": [
        "tweets_df = pd.DataFrame()\n",
        "tweets_df['clean_tweets'] = data['tweets_without_stopwords']\n",
        "tweets_df.head(2)"
      ],
      "execution_count": null,
      "outputs": []
    },
    {
      "cell_type": "markdown",
      "metadata": {
        "id": "s4AxG7zjtFKw"
      },
      "source": [
        "#Exploratory Data Analysis"
      ]
    },
    {
      "cell_type": "code",
      "metadata": {
        "id": "pvZiuPo53LlP"
      },
      "source": [
        "# importing sweetviz\n",
        "import sweetviz as sv"
      ],
      "execution_count": null,
      "outputs": []
    },
    {
      "cell_type": "code",
      "metadata": {
        "id": "2sSZTTNO3zPE"
      },
      "source": [
        "#to analyze the data and create a report, simply call analyze() method passing in the dataframe as argument\n",
        "report = sv.analyze(data)\n",
        "\n",
        "#display the report as html\n",
        "report.show_html('tweets.html')"
      ],
      "execution_count": null,
      "outputs": []
    },
    {
      "cell_type": "markdown",
      "metadata": {
        "id": "dZqp7yBE3i0q"
      },
      "source": [
        "#### Word Cloud"
      ]
    },
    {
      "cell_type": "code",
      "metadata": {
        "id": "V1kwlI6r0e6d"
      },
      "source": [
        "# Create a word cloud\n",
        "def cloud(data,backgroundcolor = 'white', width = 800, height = 600):\n",
        "    wordcloud = WordCloud(stopwords = STOPWORDS, background_color = backgroundcolor,\n",
        "                         width = width, height = height).generate(data)\n",
        "    plt.figure(figsize = (12, 8))\n",
        "    plt.imshow(wordcloud)\n",
        "    plt.axis(\"off\")\n",
        "    \n",
        "    plt.show()"
      ],
      "execution_count": null,
      "outputs": []
    },
    {
      "cell_type": "code",
      "metadata": {
        "id": "3zZzykNOtBPI"
      },
      "source": [
        "# display the word cloud.\n",
        "cloud(' '.join(data['clean_tweets']))"
      ],
      "execution_count": null,
      "outputs": []
    },
    {
      "cell_type": "code",
      "metadata": {
        "id": "M9bF234H2sXF"
      },
      "source": [
        "# Get Word Value Counts.\n",
        "from collections import Counter\n",
        "tweets_df['text_list'] = tweets_df['clean_tweets'].apply(lambda x:str(x).split())\n",
        "top = Counter([item for sublist in tweets_df['text_list'] for item in sublist]) # Counts the frequency of words.\n",
        "temp = pd.DataFrame(top.most_common(20)) # DataFrame of top 20\n",
        "temp.columns = [\"common_words\", \"count\"]\n",
        "temp.style.background_gradient(cmap=\"Blues\")"
      ],
      "execution_count": null,
      "outputs": []
    },
    {
      "cell_type": "code",
      "metadata": {
        "id": "LLnuTSkpUFTc"
      },
      "source": [
        "data.to_csv(\"GBV_data_clean_v01.csv\")"
      ],
      "execution_count": null,
      "outputs": []
    },
    {
      "cell_type": "code",
      "metadata": {
        "id": "Y7bT0_exTefM"
      },
      "source": [
        "#saving the data\n",
        "from google.colab import files\n",
        "files.download('GBV_data_clean_v01.csv')"
      ],
      "execution_count": null,
      "outputs": []
    }
  ]
}