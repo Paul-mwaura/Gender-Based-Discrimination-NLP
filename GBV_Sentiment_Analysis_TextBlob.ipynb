{
  "nbformat": 4,
  "nbformat_minor": 0,
  "metadata": {
    "colab": {
      "name": "GBV_Sentiment Analysis_TextBlob.ipynb",
      "provenance": [],
      "collapsed_sections": [],
      "toc_visible": true,
      "include_colab_link": true
    },
    "kernelspec": {
      "name": "python3",
      "display_name": "Python 3"
    },
    "language_info": {
      "name": "python"
    }
  },
  "cells": [
    {
      "cell_type": "markdown",
      "metadata": {
        "id": "view-in-github",
        "colab_type": "text"
      },
      "source": [
        "<a href=\"https://colab.research.google.com/github/Paul-mwaura/Gender-Based-Discrimination-NLP/blob/main/GBV_Sentiment_Analysis_TextBlob.ipynb\" target=\"_parent\"><img src=\"https://colab.research.google.com/assets/colab-badge.svg\" alt=\"Open In Colab\"/></a>"
      ]
    },
    {
      "cell_type": "markdown",
      "metadata": {
        "id": "t8OOZpk8Eczv"
      },
      "source": [
        "## GBV Sentiment Analysis \n",
        "\n",
        "Lets get the sentiment and polarity of the tweets-attitude or emotion of thetext"
      ]
    },
    {
      "cell_type": "markdown",
      "metadata": {
        "id": "DHVfaQsZm-g3"
      },
      "source": [
        "Short Description"
      ]
    },
    {
      "cell_type": "markdown",
      "metadata": {
        "id": "cOhBPnjBEqD4"
      },
      "source": [
        "### Resources\n",
        "* Towards DS: [A brief intro to sentiment Analysis](https://towardsdatascience.com/sentiment-analysis-concept-analysis-and-applications-6c94d6f58c17)\n",
        "*Monkey learn: [S A](https://monkeylearn.com/blog/sentiment-analysis-machine-learning/)\n",
        "*Pluralsight: [Texblob](https://www.pluralsight.com/guides/natural-language-processing-extracting-sentiment-from-text-data)"
      ]
    },
    {
      "cell_type": "markdown",
      "metadata": {
        "id": "lp0kvmQ5EZlc"
      },
      "source": [
        "### Import Libraries"
      ]
    },
    {
      "cell_type": "code",
      "metadata": {
        "id": "3806-VjnYrHB"
      },
      "source": [
        "%%capture \n",
        "#Import libraries\n",
        "import pandas as pd\n",
        "import numpy as np\n",
        "\n",
        "import warnings\n",
        "warnings.filterwarnings('ignore')\n",
        "\n",
        "#Text formatting\n",
        "import nltk\n",
        "nltk.download('stopwords')\n",
        "\n",
        "#Installing Texblob\n",
        "!pip install -U textblob\n",
        "!python -m textblob.download_corpora\n",
        "\n",
        "from textblob import TextBlob, Word, Blobber"
      ],
      "execution_count": null,
      "outputs": []
    },
    {
      "cell_type": "code",
      "metadata": {
        "id": "wG7fJxGlB8Nw",
        "colab": {
          "base_uri": "https://localhost:8080/"
        },
        "outputId": "458dadae-c206-49dc-cbba-eb2d4d79d629"
      },
      "source": [
        "text=TextBlob(\"Damn! I hate Math\")\n",
        "print(text)\n",
        "text.sentiment"
      ],
      "execution_count": null,
      "outputs": [
        {
          "output_type": "stream",
          "text": [
            "Damn! I hate Math\n"
          ],
          "name": "stdout"
        },
        {
          "output_type": "execute_result",
          "data": {
            "text/plain": [
              "Sentiment(polarity=-0.8, subjectivity=0.9)"
            ]
          },
          "metadata": {},
          "execution_count": 84
        }
      ]
    },
    {
      "cell_type": "markdown",
      "metadata": {
        "id": "KfqHDVvUDS0_"
      },
      "source": [
        "Explaining the output. The polarity is -0.8 which is close to -1. This implies that this is a very negative statement. Polarity lies between -1 to 1 with 1 showing high positivity. \n",
        "Subjectivity lies between 0 and 1. Values closer to 1 show that the statement is most probably a public opinion and not a factual piece of information.  Hatred for Maths seems to be a public opinion with no facts"
      ]
    },
    {
      "cell_type": "markdown",
      "metadata": {
        "id": "UpNp62xSEXIa"
      },
      "source": [
        "### Load the Dataset"
      ]
    },
    {
      "cell_type": "code",
      "metadata": {
        "id": "U03PNDBwatrP",
        "colab": {
          "base_uri": "https://localhost:8080/",
          "height": 328
        },
        "outputId": "2f17952e-cbae-4537-d078-8e9a76e87c6a"
      },
      "source": [
        "df = pd.read_csv(\"GBV_data_clean_v01.csv\", error_bad_lines=False)\n",
        "print(df.shape)\n",
        "df.head()"
      ],
      "execution_count": null,
      "outputs": [
        {
          "output_type": "stream",
          "text": [
            "(45797, 8)\n"
          ],
          "name": "stdout"
        },
        {
          "output_type": "execute_result",
          "data": {
            "text/html": [
              "<div>\n",
              "<style scoped>\n",
              "    .dataframe tbody tr th:only-of-type {\n",
              "        vertical-align: middle;\n",
              "    }\n",
              "\n",
              "    .dataframe tbody tr th {\n",
              "        vertical-align: top;\n",
              "    }\n",
              "\n",
              "    .dataframe thead th {\n",
              "        text-align: right;\n",
              "    }\n",
              "</style>\n",
              "<table border=\"1\" class=\"dataframe\">\n",
              "  <thead>\n",
              "    <tr style=\"text-align: right;\">\n",
              "      <th></th>\n",
              "      <th>Unnamed: 0</th>\n",
              "      <th>username</th>\n",
              "      <th>new_tweets</th>\n",
              "      <th>clean_tweets</th>\n",
              "      <th>tweets_without_stopwords</th>\n",
              "      <th>replies</th>\n",
              "      <th>retweets</th>\n",
              "      <th>likes</th>\n",
              "    </tr>\n",
              "  </thead>\n",
              "  <tbody>\n",
              "    <tr>\n",
              "      <th>0</th>\n",
              "      <td>0</td>\n",
              "      <td>shaybspears</td>\n",
              "      <td>We should talk more about how this dangerous w...</td>\n",
              "      <td>we should talk more about how this dangerous w...</td>\n",
              "      <td>talk dangerous woman stalking britney sending ...</td>\n",
              "      <td>1</td>\n",
              "      <td>14</td>\n",
              "      <td>27</td>\n",
              "    </tr>\n",
              "    <tr>\n",
              "      <th>1</th>\n",
              "      <td>1</td>\n",
              "      <td>kaylanicole9991</td>\n",
              "      <td>And no, getting me drunk wonât work. After w...</td>\n",
              "      <td>and no getting me drunk won  t work after what...</td>\n",
              "      <td>getting drunk work happened male best friend j...</td>\n",
              "      <td>1</td>\n",
              "      <td>0</td>\n",
              "      <td>0</td>\n",
              "    </tr>\n",
              "    <tr>\n",
              "      <th>2</th>\n",
              "      <td>2</td>\n",
              "      <td>marge78355824</td>\n",
              "      <td>Itâs not just about seeing a random penis...</td>\n",
              "      <td>it  s not just about seeing a random penis ...</td>\n",
              "      <td>seeing random penis fear every woman sexual vi...</td>\n",
              "      <td>1</td>\n",
              "      <td>0</td>\n",
              "      <td>1</td>\n",
              "    </tr>\n",
              "    <tr>\n",
              "      <th>3</th>\n",
              "      <td>3</td>\n",
              "      <td>explorevenango</td>\n",
              "      <td>A Franklin woman who left multiple messages in...</td>\n",
              "      <td>a franklin woman who left multiple messages in...</td>\n",
              "      <td>franklin woman left multiple messages attempt ...</td>\n",
              "      <td>0</td>\n",
              "      <td>0</td>\n",
              "      <td>0</td>\n",
              "    </tr>\n",
              "    <tr>\n",
              "      <th>4</th>\n",
              "      <td>4</td>\n",
              "      <td>politikscommon</td>\n",
              "      <td>I did read the details. Walker was also sue...</td>\n",
              "      <td>i did read the details walker was also sued...</td>\n",
              "      <td>read details walker also sued woman accused wa...</td>\n",
              "      <td>1</td>\n",
              "      <td>0</td>\n",
              "      <td>0</td>\n",
              "    </tr>\n",
              "  </tbody>\n",
              "</table>\n",
              "</div>"
            ],
            "text/plain": [
              "   Unnamed: 0         username  ... retweets likes\n",
              "0           0      shaybspears  ...       14    27\n",
              "1           1  kaylanicole9991  ...        0     0\n",
              "2           2    marge78355824  ...        0     1\n",
              "3           3   explorevenango  ...        0     0\n",
              "4           4   politikscommon  ...        0     0\n",
              "\n",
              "[5 rows x 8 columns]"
            ]
          },
          "metadata": {},
          "execution_count": 85
        }
      ]
    },
    {
      "cell_type": "code",
      "metadata": {
        "id": "c98I93kDvQ7p"
      },
      "source": [
        "#drop Nas\n",
        "df.dropna(inplace=True, axis=0)\n",
        "df.isna().sum()\n",
        "tweet_df=df.copy()"
      ],
      "execution_count": null,
      "outputs": []
    },
    {
      "cell_type": "markdown",
      "metadata": {
        "id": "zfmJk5RtNjLD"
      },
      "source": [
        "Sentiment Analysis\n",
        "We use the Flair Classifier to get Polarity and Result and add those fields to our dataframe."
      ]
    },
    {
      "cell_type": "code",
      "metadata": {
        "colab": {
          "base_uri": "https://localhost:8080/",
          "height": 52
        },
        "id": "yhD41WgJvfY5",
        "outputId": "4182dc8c-5fd5-46e6-c7b0-ed4ee57c569a"
      },
      "source": [
        "df['clean_tweets'][0]"
      ],
      "execution_count": null,
      "outputs": [
        {
          "output_type": "execute_result",
          "data": {
            "application/vnd.google.colaboratory.intrinsic+json": {
              "type": "string"
            },
            "text/plain": [
              "'we should talk more about how this dangerous woman was stalking britney sending her creepy emails about   a gay demon   and britney reported her to her lawyer but instead of issuing a restraining order against her jamie spears made her brit'"
            ]
          },
          "metadata": {},
          "execution_count": 87
        }
      ]
    },
    {
      "cell_type": "code",
      "metadata": {
        "colab": {
          "base_uri": "https://localhost:8080/"
        },
        "id": "sxNUd3b0cnuq",
        "outputId": "b68ebed4-e26e-4b4b-d159-be39c56a4e88"
      },
      "source": [
        "#Lets check the sentiment of the first 3 tweets\n",
        "df['clean_tweets'][:2].apply(lambda y: TextBlob(y).sentiment)"
      ],
      "execution_count": null,
      "outputs": [
        {
          "output_type": "execute_result",
          "data": {
            "text/plain": [
              "0    (-0.04583333333333332, 0.7458333333333333)\n",
              "1                   (0.18333333333333335, 0.55)\n",
              "Name: clean_tweets, dtype: object"
            ]
          },
          "metadata": {},
          "execution_count": 88
        }
      ]
    },
    {
      "cell_type": "code",
      "metadata": {
        "colab": {
          "base_uri": "https://localhost:8080/",
          "height": 553
        },
        "id": "MIzR8J1Qr9CR",
        "outputId": "10245402-aa67-4baf-8c6d-3a1b5021f424"
      },
      "source": [
        "#We only extract the polarity and subjectivity of all the clean tweets\n",
        "# df['polarity'] = df['clean_tweets'][:20].apply(lambda y: TextBlob(y).sentiment[0])\n",
        "# df['subjectivity']=df['clean_tweets'][:20].apply(lambda y: TextBlob(y).sentiment[1])\n",
        "polarity=[]\n",
        "subjectivity=[]\n",
        "sentiment=[]\n",
        "for text in df['clean_tweets']:\n",
        "  text=TextBlob(text)\n",
        "  sentiment=text.sentiment\n",
        "  polarity.append(sentiment[0])\n",
        "  subjectivity.append(sentiment[1])\n",
        "df['polarity']=polarity\n",
        "df['subjectivity']=subjectivity\n",
        "\n",
        "\n",
        "  #print(sentiment[0],sentiment[1])\n",
        "df.head(10)\n"
      ],
      "execution_count": null,
      "outputs": [
        {
          "output_type": "execute_result",
          "data": {
            "text/html": [
              "<div>\n",
              "<style scoped>\n",
              "    .dataframe tbody tr th:only-of-type {\n",
              "        vertical-align: middle;\n",
              "    }\n",
              "\n",
              "    .dataframe tbody tr th {\n",
              "        vertical-align: top;\n",
              "    }\n",
              "\n",
              "    .dataframe thead th {\n",
              "        text-align: right;\n",
              "    }\n",
              "</style>\n",
              "<table border=\"1\" class=\"dataframe\">\n",
              "  <thead>\n",
              "    <tr style=\"text-align: right;\">\n",
              "      <th></th>\n",
              "      <th>Unnamed: 0</th>\n",
              "      <th>username</th>\n",
              "      <th>new_tweets</th>\n",
              "      <th>clean_tweets</th>\n",
              "      <th>tweets_without_stopwords</th>\n",
              "      <th>replies</th>\n",
              "      <th>retweets</th>\n",
              "      <th>likes</th>\n",
              "      <th>polarity</th>\n",
              "      <th>subjectivity</th>\n",
              "    </tr>\n",
              "  </thead>\n",
              "  <tbody>\n",
              "    <tr>\n",
              "      <th>0</th>\n",
              "      <td>0</td>\n",
              "      <td>shaybspears</td>\n",
              "      <td>We should talk more about how this dangerous w...</td>\n",
              "      <td>we should talk more about how this dangerous w...</td>\n",
              "      <td>talk dangerous woman stalking britney sending ...</td>\n",
              "      <td>1</td>\n",
              "      <td>14</td>\n",
              "      <td>27</td>\n",
              "      <td>-0.045833</td>\n",
              "      <td>0.745833</td>\n",
              "    </tr>\n",
              "    <tr>\n",
              "      <th>1</th>\n",
              "      <td>1</td>\n",
              "      <td>kaylanicole9991</td>\n",
              "      <td>And no, getting me drunk wonât work. After w...</td>\n",
              "      <td>and no getting me drunk won  t work after what...</td>\n",
              "      <td>getting drunk work happened male best friend j...</td>\n",
              "      <td>1</td>\n",
              "      <td>0</td>\n",
              "      <td>0</td>\n",
              "      <td>0.183333</td>\n",
              "      <td>0.550000</td>\n",
              "    </tr>\n",
              "    <tr>\n",
              "      <th>2</th>\n",
              "      <td>2</td>\n",
              "      <td>marge78355824</td>\n",
              "      <td>Itâs not just about seeing a random penis...</td>\n",
              "      <td>it  s not just about seeing a random penis ...</td>\n",
              "      <td>seeing random penis fear every woman sexual vi...</td>\n",
              "      <td>1</td>\n",
              "      <td>0</td>\n",
              "      <td>1</td>\n",
              "      <td>0.062500</td>\n",
              "      <td>0.553333</td>\n",
              "    </tr>\n",
              "    <tr>\n",
              "      <th>3</th>\n",
              "      <td>3</td>\n",
              "      <td>explorevenango</td>\n",
              "      <td>A Franklin woman who left multiple messages in...</td>\n",
              "      <td>a franklin woman who left multiple messages in...</td>\n",
              "      <td>franklin woman left multiple messages attempt ...</td>\n",
              "      <td>0</td>\n",
              "      <td>0</td>\n",
              "      <td>0</td>\n",
              "      <td>0.106250</td>\n",
              "      <td>0.220833</td>\n",
              "    </tr>\n",
              "    <tr>\n",
              "      <th>4</th>\n",
              "      <td>4</td>\n",
              "      <td>politikscommon</td>\n",
              "      <td>I did read the details. Walker was also sue...</td>\n",
              "      <td>i did read the details walker was also sued...</td>\n",
              "      <td>read details walker also sued woman accused wa...</td>\n",
              "      <td>1</td>\n",
              "      <td>0</td>\n",
              "      <td>0</td>\n",
              "      <td>0.050000</td>\n",
              "      <td>0.350000</td>\n",
              "    </tr>\n",
              "    <tr>\n",
              "      <th>5</th>\n",
              "      <td>5</td>\n",
              "      <td>lulabelldesigns</td>\n",
              "      <td>ALERT: Devin Nunes needs your help ASAP. We MU...</td>\n",
              "      <td>alert devin nunes needs your help asap we must...</td>\n",
              "      <td>alert devin nunes needs help asap must defend ...</td>\n",
              "      <td>0</td>\n",
              "      <td>1</td>\n",
              "      <td>3</td>\n",
              "      <td>0.000000</td>\n",
              "      <td>0.000000</td>\n",
              "    </tr>\n",
              "    <tr>\n",
              "      <th>6</th>\n",
              "      <td>6</td>\n",
              "      <td>cole_wex</td>\n",
              "      <td>It's amazing that when you want to defend C...</td>\n",
              "      <td>its amazing that when you want to defend ch...</td>\n",
              "      <td>amazing want defend chauncey subject ask defen...</td>\n",
              "      <td>1</td>\n",
              "      <td>0</td>\n",
              "      <td>1</td>\n",
              "      <td>0.127778</td>\n",
              "      <td>0.504167</td>\n",
              "    </tr>\n",
              "    <tr>\n",
              "      <th>7</th>\n",
              "      <td>7</td>\n",
              "      <td>blunthonesty4</td>\n",
              "      <td>Last I heard unfortunately it's similar in ...</td>\n",
              "      <td>last i heard unfortunately its similar in a...</td>\n",
              "      <td>last heard unfortunately similar aus woman rap...</td>\n",
              "      <td>1</td>\n",
              "      <td>0</td>\n",
              "      <td>6</td>\n",
              "      <td>-0.125926</td>\n",
              "      <td>0.548148</td>\n",
              "    </tr>\n",
              "    <tr>\n",
              "      <th>8</th>\n",
              "      <td>8</td>\n",
              "      <td>seanrosssapp</td>\n",
              "      <td>Oh, you're talking about the guy who implied...</td>\n",
              "      <td>oh youre talking about the guy who implied t...</td>\n",
              "      <td>oh youre talking guy implied illegitimate chil...</td>\n",
              "      <td>0</td>\n",
              "      <td>0</td>\n",
              "      <td>2</td>\n",
              "      <td>0.150000</td>\n",
              "      <td>0.150000</td>\n",
              "    </tr>\n",
              "    <tr>\n",
              "      <th>9</th>\n",
              "      <td>9</td>\n",
              "      <td>menopausemum</td>\n",
              "      <td>Well I donât see why we should pay him a p...</td>\n",
              "      <td>well i don  t see why we should pay him a pe...</td>\n",
              "      <td>well see pay penny groping side chicks assbut ...</td>\n",
              "      <td>0</td>\n",
              "      <td>0</td>\n",
              "      <td>0</td>\n",
              "      <td>0.000000</td>\n",
              "      <td>0.000000</td>\n",
              "    </tr>\n",
              "  </tbody>\n",
              "</table>\n",
              "</div>"
            ],
            "text/plain": [
              "   Unnamed: 0         username  ...  polarity subjectivity\n",
              "0           0      shaybspears  ... -0.045833     0.745833\n",
              "1           1  kaylanicole9991  ...  0.183333     0.550000\n",
              "2           2    marge78355824  ...  0.062500     0.553333\n",
              "3           3   explorevenango  ...  0.106250     0.220833\n",
              "4           4   politikscommon  ...  0.050000     0.350000\n",
              "5           5  lulabelldesigns  ...  0.000000     0.000000\n",
              "6           6         cole_wex  ...  0.127778     0.504167\n",
              "7           7    blunthonesty4  ... -0.125926     0.548148\n",
              "8           8     seanrosssapp  ...  0.150000     0.150000\n",
              "9           9     menopausemum  ...  0.000000     0.000000\n",
              "\n",
              "[10 rows x 10 columns]"
            ]
          },
          "metadata": {},
          "execution_count": 89
        }
      ]
    },
    {
      "cell_type": "code",
      "metadata": {
        "colab": {
          "base_uri": "https://localhost:8080/"
        },
        "id": "kZ7X3ilZbcBX",
        "outputId": "0bed9d0d-005f-41ac-ee2d-a3b2f9505864"
      },
      "source": [
        "df['polarity'].sort_values(ascending=False)"
      ],
      "execution_count": null,
      "outputs": [
        {
          "output_type": "execute_result",
          "data": {
            "text/plain": [
              "45356    1.0\n",
              "45698    1.0\n",
              "42761    1.0\n",
              "40852    1.0\n",
              "40779    1.0\n",
              "        ... \n",
              "17356   -1.0\n",
              "10431   -1.0\n",
              "42113   -1.0\n",
              "45173   -1.0\n",
              "30740   -1.0\n",
              "Name: polarity, Length: 45315, dtype: float64"
            ]
          },
          "metadata": {},
          "execution_count": 90
        }
      ]
    },
    {
      "cell_type": "code",
      "metadata": {
        "colab": {
          "base_uri": "https://localhost:8080/"
        },
        "id": "--LT-LzzTu56",
        "outputId": "eff6a06b-ecf9-4d06-92af-360b21b94a79"
      },
      "source": [
        "df.info()"
      ],
      "execution_count": null,
      "outputs": [
        {
          "output_type": "stream",
          "text": [
            "<class 'pandas.core.frame.DataFrame'>\n",
            "Int64Index: 45315 entries, 0 to 45795\n",
            "Data columns (total 10 columns):\n",
            " #   Column                    Non-Null Count  Dtype  \n",
            "---  ------                    --------------  -----  \n",
            " 0   Unnamed: 0                45315 non-null  int64  \n",
            " 1   username                  45315 non-null  object \n",
            " 2   new_tweets                45315 non-null  object \n",
            " 3   clean_tweets              45315 non-null  object \n",
            " 4   tweets_without_stopwords  45315 non-null  object \n",
            " 5   replies                   45315 non-null  object \n",
            " 6   retweets                  45315 non-null  object \n",
            " 7   likes                     45315 non-null  object \n",
            " 8   polarity                  45315 non-null  float64\n",
            " 9   subjectivity              45315 non-null  float64\n",
            "dtypes: float64(2), int64(1), object(7)\n",
            "memory usage: 5.1+ MB\n"
          ],
          "name": "stdout"
        }
      ]
    },
    {
      "cell_type": "code",
      "metadata": {
        "colab": {
          "base_uri": "https://localhost:8080/",
          "height": 1000
        },
        "id": "8c7EpJnZaKG7",
        "outputId": "a5c4cd6e-dc94-48ee-8bda-32c88990882a"
      },
      "source": [
        "df['sentiments'] = df.polarity.replace().where(df.polarity > 0, \"negative\").where(df.polarity != 0, \"neutral\").where(df.polarity < 0.0000001, \"positive\")\n",
        "\n",
        "df.head(20)"
      ],
      "execution_count": null,
      "outputs": [
        {
          "output_type": "execute_result",
          "data": {
            "text/html": [
              "<div>\n",
              "<style scoped>\n",
              "    .dataframe tbody tr th:only-of-type {\n",
              "        vertical-align: middle;\n",
              "    }\n",
              "\n",
              "    .dataframe tbody tr th {\n",
              "        vertical-align: top;\n",
              "    }\n",
              "\n",
              "    .dataframe thead th {\n",
              "        text-align: right;\n",
              "    }\n",
              "</style>\n",
              "<table border=\"1\" class=\"dataframe\">\n",
              "  <thead>\n",
              "    <tr style=\"text-align: right;\">\n",
              "      <th></th>\n",
              "      <th>Unnamed: 0</th>\n",
              "      <th>username</th>\n",
              "      <th>new_tweets</th>\n",
              "      <th>clean_tweets</th>\n",
              "      <th>tweets_without_stopwords</th>\n",
              "      <th>replies</th>\n",
              "      <th>retweets</th>\n",
              "      <th>likes</th>\n",
              "      <th>polarity</th>\n",
              "      <th>subjectivity</th>\n",
              "      <th>sentiments</th>\n",
              "    </tr>\n",
              "  </thead>\n",
              "  <tbody>\n",
              "    <tr>\n",
              "      <th>0</th>\n",
              "      <td>0</td>\n",
              "      <td>shaybspears</td>\n",
              "      <td>We should talk more about how this dangerous w...</td>\n",
              "      <td>we should talk more about how this dangerous w...</td>\n",
              "      <td>talk dangerous woman stalking britney sending ...</td>\n",
              "      <td>1</td>\n",
              "      <td>14</td>\n",
              "      <td>27</td>\n",
              "      <td>-0.045833</td>\n",
              "      <td>0.745833</td>\n",
              "      <td>negative</td>\n",
              "    </tr>\n",
              "    <tr>\n",
              "      <th>1</th>\n",
              "      <td>1</td>\n",
              "      <td>kaylanicole9991</td>\n",
              "      <td>And no, getting me drunk wonât work. After w...</td>\n",
              "      <td>and no getting me drunk won  t work after what...</td>\n",
              "      <td>getting drunk work happened male best friend j...</td>\n",
              "      <td>1</td>\n",
              "      <td>0</td>\n",
              "      <td>0</td>\n",
              "      <td>0.183333</td>\n",
              "      <td>0.550000</td>\n",
              "      <td>positive</td>\n",
              "    </tr>\n",
              "    <tr>\n",
              "      <th>2</th>\n",
              "      <td>2</td>\n",
              "      <td>marge78355824</td>\n",
              "      <td>Itâs not just about seeing a random penis...</td>\n",
              "      <td>it  s not just about seeing a random penis ...</td>\n",
              "      <td>seeing random penis fear every woman sexual vi...</td>\n",
              "      <td>1</td>\n",
              "      <td>0</td>\n",
              "      <td>1</td>\n",
              "      <td>0.062500</td>\n",
              "      <td>0.553333</td>\n",
              "      <td>positive</td>\n",
              "    </tr>\n",
              "    <tr>\n",
              "      <th>3</th>\n",
              "      <td>3</td>\n",
              "      <td>explorevenango</td>\n",
              "      <td>A Franklin woman who left multiple messages in...</td>\n",
              "      <td>a franklin woman who left multiple messages in...</td>\n",
              "      <td>franklin woman left multiple messages attempt ...</td>\n",
              "      <td>0</td>\n",
              "      <td>0</td>\n",
              "      <td>0</td>\n",
              "      <td>0.106250</td>\n",
              "      <td>0.220833</td>\n",
              "      <td>positive</td>\n",
              "    </tr>\n",
              "    <tr>\n",
              "      <th>4</th>\n",
              "      <td>4</td>\n",
              "      <td>politikscommon</td>\n",
              "      <td>I did read the details. Walker was also sue...</td>\n",
              "      <td>i did read the details walker was also sued...</td>\n",
              "      <td>read details walker also sued woman accused wa...</td>\n",
              "      <td>1</td>\n",
              "      <td>0</td>\n",
              "      <td>0</td>\n",
              "      <td>0.050000</td>\n",
              "      <td>0.350000</td>\n",
              "      <td>positive</td>\n",
              "    </tr>\n",
              "    <tr>\n",
              "      <th>5</th>\n",
              "      <td>5</td>\n",
              "      <td>lulabelldesigns</td>\n",
              "      <td>ALERT: Devin Nunes needs your help ASAP. We MU...</td>\n",
              "      <td>alert devin nunes needs your help asap we must...</td>\n",
              "      <td>alert devin nunes needs help asap must defend ...</td>\n",
              "      <td>0</td>\n",
              "      <td>1</td>\n",
              "      <td>3</td>\n",
              "      <td>0.000000</td>\n",
              "      <td>0.000000</td>\n",
              "      <td>neutral</td>\n",
              "    </tr>\n",
              "    <tr>\n",
              "      <th>6</th>\n",
              "      <td>6</td>\n",
              "      <td>cole_wex</td>\n",
              "      <td>It's amazing that when you want to defend C...</td>\n",
              "      <td>its amazing that when you want to defend ch...</td>\n",
              "      <td>amazing want defend chauncey subject ask defen...</td>\n",
              "      <td>1</td>\n",
              "      <td>0</td>\n",
              "      <td>1</td>\n",
              "      <td>0.127778</td>\n",
              "      <td>0.504167</td>\n",
              "      <td>positive</td>\n",
              "    </tr>\n",
              "    <tr>\n",
              "      <th>7</th>\n",
              "      <td>7</td>\n",
              "      <td>blunthonesty4</td>\n",
              "      <td>Last I heard unfortunately it's similar in ...</td>\n",
              "      <td>last i heard unfortunately its similar in a...</td>\n",
              "      <td>last heard unfortunately similar aus woman rap...</td>\n",
              "      <td>1</td>\n",
              "      <td>0</td>\n",
              "      <td>6</td>\n",
              "      <td>-0.125926</td>\n",
              "      <td>0.548148</td>\n",
              "      <td>negative</td>\n",
              "    </tr>\n",
              "    <tr>\n",
              "      <th>8</th>\n",
              "      <td>8</td>\n",
              "      <td>seanrosssapp</td>\n",
              "      <td>Oh, you're talking about the guy who implied...</td>\n",
              "      <td>oh youre talking about the guy who implied t...</td>\n",
              "      <td>oh youre talking guy implied illegitimate chil...</td>\n",
              "      <td>0</td>\n",
              "      <td>0</td>\n",
              "      <td>2</td>\n",
              "      <td>0.150000</td>\n",
              "      <td>0.150000</td>\n",
              "      <td>positive</td>\n",
              "    </tr>\n",
              "    <tr>\n",
              "      <th>9</th>\n",
              "      <td>9</td>\n",
              "      <td>menopausemum</td>\n",
              "      <td>Well I donât see why we should pay him a p...</td>\n",
              "      <td>well i don  t see why we should pay him a pe...</td>\n",
              "      <td>well see pay penny groping side chicks assbut ...</td>\n",
              "      <td>0</td>\n",
              "      <td>0</td>\n",
              "      <td>0</td>\n",
              "      <td>0.000000</td>\n",
              "      <td>0.000000</td>\n",
              "      <td>neutral</td>\n",
              "    </tr>\n",
              "    <tr>\n",
              "      <th>10</th>\n",
              "      <td>10</td>\n",
              "      <td>roseygoodman</td>\n",
              "      <td>way to #VictimBlame. A woman gets assaulted b...</td>\n",
              "      <td>way to victimblame a woman gets assaulted by ...</td>\n",
              "      <td>way victimblame woman gets assaulted maskhole ...</td>\n",
              "      <td>0</td>\n",
              "      <td>0</td>\n",
              "      <td>0</td>\n",
              "      <td>0.000000</td>\n",
              "      <td>0.283333</td>\n",
              "      <td>neutral</td>\n",
              "    </tr>\n",
              "    <tr>\n",
              "      <th>11</th>\n",
              "      <td>11</td>\n",
              "      <td>imasample13</td>\n",
              "      <td>It was reported that Floyd was the assailan...</td>\n",
              "      <td>it was reported that floyd was the assailan...</td>\n",
              "      <td>reported floyd assailant crime involving viole...</td>\n",
              "      <td>1</td>\n",
              "      <td>0</td>\n",
              "      <td>0</td>\n",
              "      <td>0.020833</td>\n",
              "      <td>0.520833</td>\n",
              "      <td>positive</td>\n",
              "    </tr>\n",
              "    <tr>\n",
              "      <th>12</th>\n",
              "      <td>12</td>\n",
              "      <td>2keercous</td>\n",
              "      <td>Didn't he sxually assault a woman</td>\n",
              "      <td>didnt he sxually assault a woman</td>\n",
              "      <td>didnt sxually assault woman</td>\n",
              "      <td>0</td>\n",
              "      <td>0</td>\n",
              "      <td>0</td>\n",
              "      <td>0.000000</td>\n",
              "      <td>0.000000</td>\n",
              "      <td>neutral</td>\n",
              "    </tr>\n",
              "    <tr>\n",
              "      <th>13</th>\n",
              "      <td>13</td>\n",
              "      <td>notalottamani</td>\n",
              "      <td>You played the role of the âundesirableâ l...</td>\n",
              "      <td>you played the role of the   undesirable   lou...</td>\n",
              "      <td>played role undesirable loud brazen black woma...</td>\n",
              "      <td>0</td>\n",
              "      <td>2</td>\n",
              "      <td>16</td>\n",
              "      <td>-0.033333</td>\n",
              "      <td>0.616667</td>\n",
              "      <td>negative</td>\n",
              "    </tr>\n",
              "    <tr>\n",
              "      <th>14</th>\n",
              "      <td>14</td>\n",
              "      <td>colinfry666</td>\n",
              "      <td>I think you deserve a highly-paid advisor rol...</td>\n",
              "      <td>i think you deserve a highlypaid advisor role...</td>\n",
              "      <td>think deserve highlypaid advisor role hancock ...</td>\n",
              "      <td>1</td>\n",
              "      <td>0</td>\n",
              "      <td>1</td>\n",
              "      <td>0.000000</td>\n",
              "      <td>0.000000</td>\n",
              "      <td>neutral</td>\n",
              "    </tr>\n",
              "    <tr>\n",
              "      <th>15</th>\n",
              "      <td>15</td>\n",
              "      <td>fakesghostin</td>\n",
              "      <td>men thinks that womens generalise men for a ra...</td>\n",
              "      <td>men thinks that womens generalise men for a ra...</td>\n",
              "      <td>men thinks womens generalise men rape sexual a...</td>\n",
              "      <td>0</td>\n",
              "      <td>0</td>\n",
              "      <td>0</td>\n",
              "      <td>0.500000</td>\n",
              "      <td>0.833333</td>\n",
              "      <td>positive</td>\n",
              "    </tr>\n",
              "    <tr>\n",
              "      <th>16</th>\n",
              "      <td>16</td>\n",
              "      <td>ehholiviaa</td>\n",
              "      <td>not this woman trying to excuse assault.</td>\n",
              "      <td>not this woman trying to excuse assault</td>\n",
              "      <td>woman trying excuse assault</td>\n",
              "      <td>1</td>\n",
              "      <td>0</td>\n",
              "      <td>1</td>\n",
              "      <td>-0.050000</td>\n",
              "      <td>0.050000</td>\n",
              "      <td>negative</td>\n",
              "    </tr>\n",
              "    <tr>\n",
              "      <th>17</th>\n",
              "      <td>17</td>\n",
              "      <td>succubus_pride</td>\n",
              "      <td>â£ï¸: Okay so- As true as this is in recent...</td>\n",
              "      <td>okay so as true as this is in recent years...</td>\n",
              "      <td>okay true recent years cant use mens r statist...</td>\n",
              "      <td>2</td>\n",
              "      <td>0</td>\n",
              "      <td>0</td>\n",
              "      <td>0.220000</td>\n",
              "      <td>0.496667</td>\n",
              "      <td>positive</td>\n",
              "    </tr>\n",
              "    <tr>\n",
              "      <th>18</th>\n",
              "      <td>18</td>\n",
              "      <td>llarim9</td>\n",
              "      <td>ummm this nigga wrote a song ab stalking &amp;amp;...</td>\n",
              "      <td>ummm this nigga wrote a song ab stalking  rpin...</td>\n",
              "      <td>ummm nigga wrote song ab stalking rping woman</td>\n",
              "      <td>2</td>\n",
              "      <td>0</td>\n",
              "      <td>0</td>\n",
              "      <td>0.000000</td>\n",
              "      <td>0.000000</td>\n",
              "      <td>neutral</td>\n",
              "    </tr>\n",
              "    <tr>\n",
              "      <th>19</th>\n",
              "      <td>19</td>\n",
              "      <td>ben_ac_elliott</td>\n",
              "      <td>They're so utterly made insane by inane nonse...</td>\n",
              "      <td>theyre so utterly made insane by inane nonsen...</td>\n",
              "      <td>theyre utterly made insane inane nonsense grow...</td>\n",
              "      <td>1</td>\n",
              "      <td>3</td>\n",
              "      <td>66</td>\n",
              "      <td>-0.166667</td>\n",
              "      <td>0.944444</td>\n",
              "      <td>negative</td>\n",
              "    </tr>\n",
              "  </tbody>\n",
              "</table>\n",
              "</div>"
            ],
            "text/plain": [
              "    Unnamed: 0         username  ... subjectivity sentiments\n",
              "0            0      shaybspears  ...     0.745833   negative\n",
              "1            1  kaylanicole9991  ...     0.550000   positive\n",
              "2            2    marge78355824  ...     0.553333   positive\n",
              "3            3   explorevenango  ...     0.220833   positive\n",
              "4            4   politikscommon  ...     0.350000   positive\n",
              "5            5  lulabelldesigns  ...     0.000000    neutral\n",
              "6            6         cole_wex  ...     0.504167   positive\n",
              "7            7    blunthonesty4  ...     0.548148   negative\n",
              "8            8     seanrosssapp  ...     0.150000   positive\n",
              "9            9     menopausemum  ...     0.000000    neutral\n",
              "10          10     roseygoodman  ...     0.283333    neutral\n",
              "11          11      imasample13  ...     0.520833   positive\n",
              "12          12        2keercous  ...     0.000000    neutral\n",
              "13          13    notalottamani  ...     0.616667   negative\n",
              "14          14      colinfry666  ...     0.000000    neutral\n",
              "15          15     fakesghostin  ...     0.833333   positive\n",
              "16          16       ehholiviaa  ...     0.050000   negative\n",
              "17          17   succubus_pride  ...     0.496667   positive\n",
              "18          18          llarim9  ...     0.000000    neutral\n",
              "19          19   ben_ac_elliott  ...     0.944444   negative\n",
              "\n",
              "[20 rows x 11 columns]"
            ]
          },
          "metadata": {},
          "execution_count": 92
        }
      ]
    },
    {
      "cell_type": "code",
      "metadata": {
        "id": "pI36sJuLhwT6"
      },
      "source": [
        "# sentiment={}\n",
        "# for val in df['polarity']:\n",
        "#   if float(val) <0:\n",
        "#     sentiment=\"Negative\"\n",
        "#   elif int(val) ==0:\n",
        "#     sentiment=\"Neutral\"\n",
        "#   else:\n",
        "#     sentiment=\"Positive\"\n",
        "#   sentiment.join(sentiment)\n",
        "# df['sentiment']=sentiment"
      ],
      "execution_count": null,
      "outputs": []
    },
    {
      "cell_type": "code",
      "metadata": {
        "id": "rdzbCA4Yhz7b"
      },
      "source": [
        "df.sample(50)"
      ],
      "execution_count": null,
      "outputs": []
    }
  ]
}