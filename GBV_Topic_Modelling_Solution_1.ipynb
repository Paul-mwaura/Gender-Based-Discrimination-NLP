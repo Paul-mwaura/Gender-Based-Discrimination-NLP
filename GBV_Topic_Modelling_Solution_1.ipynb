{
  "nbformat": 4,
  "nbformat_minor": 0,
  "metadata": {
    "colab": {
      "name": "GBV_Topic-Modelling Solution 1.ipynb",
      "provenance": [],
      "authorship_tag": "ABX9TyMur4lG2ZD71r7r4uzZfXiy",
      "include_colab_link": true
    },
    "kernelspec": {
      "name": "python3",
      "display_name": "Python 3"
    },
    "language_info": {
      "name": "python"
    }
  },
  "cells": [
    {
      "cell_type": "markdown",
      "metadata": {
        "id": "view-in-github",
        "colab_type": "text"
      },
      "source": [
        "<a href=\"https://colab.research.google.com/github/Paul-mwaura/Gender-Based-Discrimination-NLP/blob/main/GBV_Topic_Modelling_Solution_1.ipynb\" target=\"_parent\"><img src=\"https://colab.research.google.com/assets/colab-badge.svg\" alt=\"Open In Colab\"/></a>"
      ]
    },
    {
      "cell_type": "markdown",
      "metadata": {
        "id": "_W2ieWZqXa6u"
      },
      "source": [
        "# Gender Based Violence Topic Modelling"
      ]
    },
    {
      "cell_type": "markdown",
      "metadata": {
        "id": "i2pA0ph3XgZi"
      },
      "source": [
        "## Import the Libraries"
      ]
    },
    {
      "cell_type": "code",
      "metadata": {
        "id": "NuIRKxZsXSsX",
        "colab": {
          "base_uri": "https://localhost:8080/"
        },
        "outputId": "56762204-f9bd-48be-bb77-cd0e9ffb249d"
      },
      "source": [
        "# data visualisation and manipulation\n",
        "import numpy as np\n",
        "import pandas as pd\n",
        "import matplotlib.pyplot as plt\n",
        "from matplotlib import style\n",
        "import seaborn as sns\n",
        "#configure\n",
        "# sets matplotlib to inline and displays graphs below the corressponding cell.\n",
        "%matplotlib inline  \n",
        "style.use('fivethirtyeight')\n",
        "sns.set(style='whitegrid',color_codes=True)\n",
        "\n",
        "#import nltk\n",
        "import nltk\n",
        "from nltk.corpus import stopwords\n",
        "from nltk.tokenize import word_tokenize,sent_tokenize\n",
        "nltk.download('stopwords')\n",
        "#preprocessing\n",
        "from nltk.corpus import stopwords  #stopwords\n",
        "from nltk import word_tokenize,sent_tokenize # tokenizing\n",
        "from nltk.stem import PorterStemmer,LancasterStemmer  # using the Porter Stemmer and Lancaster Stemmer and others\n",
        "\n",
        "from nltk.stem.snowball import SnowballStemmer\n",
        "from nltk.stem import WordNetLemmatizer  # lammatizer from WordNet\n",
        "\n",
        "# for named entity recognition (NER)\n",
        "from nltk import ne_chunk\n",
        "\n",
        "# vectorizers for creating the document-term-matrix (DTM)\n",
        "from sklearn.feature_extraction.text import TfidfVectorizer,CountVectorizer\n",
        "\n",
        "#stop-words\n",
        "stop_words=set(nltk.corpus.stopwords.words('english'))"
      ],
      "execution_count": null,
      "outputs": [
        {
          "output_type": "stream",
          "text": [
            "[nltk_data] Downloading package stopwords to /root/nltk_data...\n",
            "[nltk_data]   Unzipping corpora/stopwords.zip.\n"
          ],
          "name": "stdout"
        }
      ]
    },
    {
      "cell_type": "markdown",
      "metadata": {
        "id": "pB9gb3-FXkIk"
      },
      "source": [
        "## Load the Dataset"
      ]
    },
    {
      "cell_type": "code",
      "metadata": {
        "colab": {
          "base_uri": "https://localhost:8080/",
          "height": 598
        },
        "id": "3dFgoEq_XwlQ",
        "outputId": "90bbf303-5e40-4542-9d18-0a03850c4106"
      },
      "source": [
        "df = pd.read_csv(\"/content/GBV_data_clean_v01.csv\", error_bad_lines=False)\n",
        "df.head()"
      ],
      "execution_count": null,
      "outputs": [
        {
          "output_type": "execute_result",
          "data": {
            "text/html": [
              "<div>\n",
              "<style scoped>\n",
              "    .dataframe tbody tr th:only-of-type {\n",
              "        vertical-align: middle;\n",
              "    }\n",
              "\n",
              "    .dataframe tbody tr th {\n",
              "        vertical-align: top;\n",
              "    }\n",
              "\n",
              "    .dataframe thead th {\n",
              "        text-align: right;\n",
              "    }\n",
              "</style>\n",
              "<table border=\"1\" class=\"dataframe\">\n",
              "  <thead>\n",
              "    <tr style=\"text-align: right;\">\n",
              "      <th></th>\n",
              "      <th>Unnamed: 0</th>\n",
              "      <th>username</th>\n",
              "      <th>new_tweets</th>\n",
              "      <th>clean_tweets</th>\n",
              "      <th>tweets_without_stopwords</th>\n",
              "      <th>replies</th>\n",
              "      <th>retweets</th>\n",
              "      <th>likes</th>\n",
              "    </tr>\n",
              "  </thead>\n",
              "  <tbody>\n",
              "    <tr>\n",
              "      <th>0</th>\n",
              "      <td>0</td>\n",
              "      <td>shaybspears</td>\n",
              "      <td>We should talk more about how this dangerous w...</td>\n",
              "      <td>we should talk more about how this dangerous w...</td>\n",
              "      <td>talk dangerous woman stalking britney sending ...</td>\n",
              "      <td>1</td>\n",
              "      <td>14</td>\n",
              "      <td>27</td>\n",
              "    </tr>\n",
              "    <tr>\n",
              "      <th>1</th>\n",
              "      <td>1</td>\n",
              "      <td>kaylanicole9991</td>\n",
              "      <td>And no, getting me drunk wonât work. After w...</td>\n",
              "      <td>and no getting me drunk won  t work after what...</td>\n",
              "      <td>getting drunk work happened male best friend j...</td>\n",
              "      <td>1</td>\n",
              "      <td>0</td>\n",
              "      <td>0</td>\n",
              "    </tr>\n",
              "    <tr>\n",
              "      <th>2</th>\n",
              "      <td>2</td>\n",
              "      <td>marge78355824</td>\n",
              "      <td>Itâs not just about seeing a random penis...</td>\n",
              "      <td>it  s not just about seeing a random penis ...</td>\n",
              "      <td>seeing random penis fear every woman sexual vi...</td>\n",
              "      <td>1</td>\n",
              "      <td>0</td>\n",
              "      <td>1</td>\n",
              "    </tr>\n",
              "    <tr>\n",
              "      <th>3</th>\n",
              "      <td>3</td>\n",
              "      <td>explorevenango</td>\n",
              "      <td>A Franklin woman who left multiple messages in...</td>\n",
              "      <td>a franklin woman who left multiple messages in...</td>\n",
              "      <td>franklin woman left multiple messages attempt ...</td>\n",
              "      <td>0</td>\n",
              "      <td>0</td>\n",
              "      <td>0</td>\n",
              "    </tr>\n",
              "    <tr>\n",
              "      <th>4</th>\n",
              "      <td>4</td>\n",
              "      <td>politikscommon</td>\n",
              "      <td>I did read the details. Walker was also sue...</td>\n",
              "      <td>i did read the details walker was also sued...</td>\n",
              "      <td>read details walker also sued woman accused wa...</td>\n",
              "      <td>1</td>\n",
              "      <td>0</td>\n",
              "      <td>0</td>\n",
              "    </tr>\n",
              "  </tbody>\n",
              "</table>\n",
              "</div>"
            ],
            "text/plain": [
              "   Unnamed: 0         username  ... retweets likes\n",
              "0           0      shaybspears  ...       14    27\n",
              "1           1  kaylanicole9991  ...        0     0\n",
              "2           2    marge78355824  ...        0     1\n",
              "3           3   explorevenango  ...        0     0\n",
              "4           4   politikscommon  ...        0     0\n",
              "\n",
              "[5 rows x 8 columns]"
            ]
          },
          "metadata": {
            "tags": []
          },
          "execution_count": 22
        }
      ]
    },
    {
      "cell_type": "code",
      "metadata": {
        "colab": {
          "base_uri": "https://localhost:8080/"
        },
        "id": "oPTetjLDTuRf",
        "outputId": "8a78f50f-94b9-4f3c-e65e-b936fff1adf5"
      },
      "source": [
        "df.isna().sum()"
      ],
      "execution_count": null,
      "outputs": [
        {
          "output_type": "execute_result",
          "data": {
            "text/plain": [
              "Unnamed: 0                    0\n",
              "username                      0\n",
              "new_tweets                    2\n",
              "clean_tweets                 23\n",
              "tweets_without_stopwords    482\n",
              "replies                       1\n",
              "retweets                      1\n",
              "likes                         1\n",
              "dtype: int64"
            ]
          },
          "metadata": {
            "tags": []
          },
          "execution_count": 23
        }
      ]
    },
    {
      "cell_type": "code",
      "metadata": {
        "colab": {
          "base_uri": "https://localhost:8080/"
        },
        "id": "_AdfcRGjTxXP",
        "outputId": "9896e9bb-4b30-4323-bfe5-b9788bbff1d4"
      },
      "source": [
        "df.dropna(inplace=True, axis=0)\n",
        "df.isna().sum()"
      ],
      "execution_count": null,
      "outputs": [
        {
          "output_type": "execute_result",
          "data": {
            "text/plain": [
              "Unnamed: 0                  0\n",
              "username                    0\n",
              "new_tweets                  0\n",
              "clean_tweets                0\n",
              "tweets_without_stopwords    0\n",
              "replies                     0\n",
              "retweets                    0\n",
              "likes                       0\n",
              "dtype: int64"
            ]
          },
          "metadata": {
            "tags": []
          },
          "execution_count": 24
        }
      ]
    },
    {
      "cell_type": "code",
      "metadata": {
        "id": "ZGej85cNdBAB",
        "colab": {
          "base_uri": "https://localhost:8080/",
          "height": 204
        },
        "outputId": "9f537bb2-9324-450b-d1a9-ec2046e4bb76"
      },
      "source": [
        "data = pd.DataFrame(df['tweets_without_stopwords'])\n",
        "data.head()"
      ],
      "execution_count": null,
      "outputs": [
        {
          "output_type": "execute_result",
          "data": {
            "text/html": [
              "<div>\n",
              "<style scoped>\n",
              "    .dataframe tbody tr th:only-of-type {\n",
              "        vertical-align: middle;\n",
              "    }\n",
              "\n",
              "    .dataframe tbody tr th {\n",
              "        vertical-align: top;\n",
              "    }\n",
              "\n",
              "    .dataframe thead th {\n",
              "        text-align: right;\n",
              "    }\n",
              "</style>\n",
              "<table border=\"1\" class=\"dataframe\">\n",
              "  <thead>\n",
              "    <tr style=\"text-align: right;\">\n",
              "      <th></th>\n",
              "      <th>tweets_without_stopwords</th>\n",
              "    </tr>\n",
              "  </thead>\n",
              "  <tbody>\n",
              "    <tr>\n",
              "      <th>0</th>\n",
              "      <td>talk dangerous woman stalking britney sending ...</td>\n",
              "    </tr>\n",
              "    <tr>\n",
              "      <th>1</th>\n",
              "      <td>getting drunk work happened male best friend j...</td>\n",
              "    </tr>\n",
              "    <tr>\n",
              "      <th>2</th>\n",
              "      <td>seeing random penis fear every woman sexual vi...</td>\n",
              "    </tr>\n",
              "    <tr>\n",
              "      <th>3</th>\n",
              "      <td>franklin woman left multiple messages attempt ...</td>\n",
              "    </tr>\n",
              "    <tr>\n",
              "      <th>4</th>\n",
              "      <td>read details walker also sued woman accused wa...</td>\n",
              "    </tr>\n",
              "  </tbody>\n",
              "</table>\n",
              "</div>"
            ],
            "text/plain": [
              "                            tweets_without_stopwords\n",
              "0  talk dangerous woman stalking britney sending ...\n",
              "1  getting drunk work happened male best friend j...\n",
              "2  seeing random penis fear every woman sexual vi...\n",
              "3  franklin woman left multiple messages attempt ...\n",
              "4  read details walker also sued woman accused wa..."
            ]
          },
          "metadata": {
            "tags": []
          },
          "execution_count": 25
        }
      ]
    },
    {
      "cell_type": "code",
      "metadata": {
        "colab": {
          "base_uri": "https://localhost:8080/"
        },
        "id": "ZpmHmh4pTlou",
        "outputId": "20477c6d-a298-4a3e-a51f-c32a72ae7516"
      },
      "source": [
        "data.isna().sum()"
      ],
      "execution_count": null,
      "outputs": [
        {
          "output_type": "execute_result",
          "data": {
            "text/plain": [
              "tweets_without_stopwords    0\n",
              "dtype: int64"
            ]
          },
          "metadata": {
            "tags": []
          },
          "execution_count": 27
        }
      ]
    },
    {
      "cell_type": "code",
      "metadata": {
        "colab": {
          "base_uri": "https://localhost:8080/",
          "height": 52
        },
        "id": "vCKjC_grUJJ-",
        "outputId": "1e171ff6-e058-4aac-fd1a-4a1b643d8aed"
      },
      "source": [
        "data['tweets_without_stopwords'][0]"
      ],
      "execution_count": null,
      "outputs": [
        {
          "output_type": "execute_result",
          "data": {
            "application/vnd.google.colaboratory.intrinsic+json": {
              "type": "string"
            },
            "text/plain": [
              "'talk dangerous woman stalking britney sending creepy emails gay demon britney reported lawyer instead issuing restraining order jamie spears made brit'"
            ]
          },
          "metadata": {
            "tags": []
          },
          "execution_count": 30
        }
      ]
    },
    {
      "cell_type": "markdown",
      "metadata": {
        "id": "URk8qr4YSfM2"
      },
      "source": [
        "Some important points:-\n",
        "\n",
        "1) LSA is generally implemented with Tfidf values everywhere and not with the Count Vectorizer.\n",
        "\n",
        "2) max_features depends on your computing power and also on eval. metric (coherence score is a metric for topic model). Try the value that gives best eval. metric and doesn't limits processing power.\n",
        "\n",
        "3) Default values for min_df & max_df worked well.\n",
        "\n",
        "4) Can try different values for ngram_range."
      ]
    },
    {
      "cell_type": "code",
      "metadata": {
        "id": "6McqNJBgRwYL"
      },
      "source": [
        "vect =TfidfVectorizer(stop_words=stop_words,max_features=1000)"
      ],
      "execution_count": null,
      "outputs": []
    },
    {
      "cell_type": "code",
      "metadata": {
        "id": "WYR3Hm7nR9J6"
      },
      "source": [
        "vect_text=vect.fit_transform(data['tweets_without_stopwords'])"
      ],
      "execution_count": null,
      "outputs": []
    },
    {
      "cell_type": "markdown",
      "metadata": {
        "id": "YiqD8OtSUTPd"
      },
      "source": [
        "We can now see the most frequent and rare words in the news headlines based on idf score. The lesser the value; more common is the word in the news headlines."
      ]
    },
    {
      "cell_type": "code",
      "metadata": {
        "colab": {
          "base_uri": "https://localhost:8080/"
        },
        "id": "FqUH7fkbSoGr",
        "outputId": "a5a7e1dd-0172-4a4a-b3d3-af8be0752e71"
      },
      "source": [
        "print(vect_text.shape)\n",
        "print(vect_text)"
      ],
      "execution_count": null,
      "outputs": [
        {
          "output_type": "stream",
          "text": [
            "(45315, 1000)\n",
            "  (0, 530)\t0.31263214275557655\n",
            "  (0, 623)\t0.37475937020863165\n",
            "  (0, 446)\t0.359150252435049\n",
            "  (0, 725)\t0.38000375075019677\n",
            "  (0, 347)\t0.35169617857927526\n",
            "  (0, 814)\t0.26145554004437976\n",
            "  (0, 965)\t0.1367919611497165\n",
            "  (0, 215)\t0.41176458649755515\n",
            "  (0, 849)\t0.32880615348964776\n",
            "  (1, 40)\t0.1915126034739174\n",
            "  (1, 895)\t0.31258715750486665\n",
            "  (1, 557)\t0.37452154808851373\n",
            "  (1, 824)\t0.2188829111762232\n",
            "  (1, 176)\t0.29974714768481275\n",
            "  (1, 335)\t0.2700742476490259\n",
            "  (1, 99)\t0.27294034959664104\n",
            "  (1, 537)\t0.2540762564228144\n",
            "  (1, 388)\t0.26764041099618274\n",
            "  (1, 973)\t0.22119824660761583\n",
            "  (1, 353)\t0.49421933135900437\n",
            "  (1, 965)\t0.10384431227807862\n",
            "  (2, 356)\t0.1304394733658438\n",
            "  (2, 513)\t0.22990232240664785\n",
            "  (2, 67)\t0.1168545987657141\n",
            "  (2, 421)\t0.17390421097347344\n",
            "  :\t:\n",
            "  (45310, 239)\t0.30360315615926814\n",
            "  (45310, 994)\t0.3220406394901512\n",
            "  (45310, 642)\t0.431431738920888\n",
            "  (45310, 534)\t0.2694761527967481\n",
            "  (45310, 956)\t0.28418204266063757\n",
            "  (45310, 749)\t0.2694761527967481\n",
            "  (45310, 867)\t0.24623945973757083\n",
            "  (45310, 108)\t0.2803804440704408\n",
            "  (45311, 791)\t0.6031766787984226\n",
            "  (45311, 997)\t0.388899881983834\n",
            "  (45311, 108)\t0.47011773458179085\n",
            "  (45311, 927)\t0.3250606971836287\n",
            "  (45311, 557)\t0.39781859524768626\n",
            "  (45312, 744)\t0.46863782924525055\n",
            "  (45312, 191)\t0.4584007929352598\n",
            "  (45312, 843)\t0.4671869466605499\n",
            "  (45312, 928)\t0.44970784339627695\n",
            "  (45312, 351)\t0.2996422016572317\n",
            "  (45312, 927)\t0.2448694784584101\n",
            "  (45313, 514)\t0.5269744283729761\n",
            "  (45313, 802)\t0.5439952257651568\n",
            "  (45313, 41)\t0.4916500105239706\n",
            "  (45313, 927)\t0.31023792462303257\n",
            "  (45313, 779)\t0.29732111170090897\n",
            "  (45314, 348)\t1.0\n"
          ],
          "name": "stdout"
        }
      ]
    },
    {
      "cell_type": "code",
      "metadata": {
        "id": "iZ6JoINvUQr5"
      },
      "source": [
        "idf=vect.idf_"
      ],
      "execution_count": null,
      "outputs": []
    },
    {
      "cell_type": "code",
      "metadata": {
        "colab": {
          "base_uri": "https://localhost:8080/"
        },
        "id": "nDe2gIwaUZQh",
        "outputId": "585a0893-a616-4c56-a0b9-47d561fff1b0"
      },
      "source": [
        "dd=dict(zip(vect.get_feature_names(), idf))\n",
        "l=sorted(dd, key=(dd).get)\n",
        "# print(l)\n",
        "print(f\"Word with highest score: {l[0]}\\nWord with lowest score: {l[-1]}\\n\")\n",
        "print(f\"woman score: {dd['woman']}\")\n",
        "print(f\"highest score: {dd['highest']}\\n\")\n",
        "print(f\"violence score: {dd['violence']}\")\n",
        "print(f\"stalking socre: {dd['stalking']}\")  # police is most common and forecast is least common among the news headlines."
      ],
      "execution_count": null,
      "outputs": [
        {
          "output_type": "stream",
          "text": [
            "Word with highest score: woman\n",
            "Word with lowest score: highest\n",
            "\n",
            "woman score: 2.279487279920324\n",
            "highest score: 7.116245264005288\n",
            "\n",
            "violence score: 3.35877301842574\n",
            "stalking socre: 4.356868435737737\n"
          ],
          "name": "stdout"
        }
      ]
    },
    {
      "cell_type": "markdown",
      "metadata": {
        "id": "Ob51L7H1VPWs"
      },
      "source": [
        "We can therefore see that on the basis of the idf value , 'woman' is the most frequent word while 'highest' is least frequently occuring among the tweets."
      ]
    },
    {
      "cell_type": "markdown",
      "metadata": {
        "id": "VL2phDwVVxeQ"
      },
      "source": [
        "## TOPIC MODELLING\n",
        "### Latent Semantic Analysis (LSA)\n",
        "The first approach that I have used is the LSA. LSA is basically singular value decomposition.\n",
        "\n",
        "SVD decomposes the original DTM into three matrices S=U.(sigma).(V.T). Here the matrix U denotes the document-topic matrix while (V) is the topic-term matrix.\n",
        "\n",
        "Each row of the matrix U(document-term matrix) is the vector representation of the corresponding document. The length of these vectors is the number of desired topics. Vector representation for the terms in our data can be found in the matrix V (term-topic matrix).\n",
        "\n",
        "So, SVD gives us vectors for every document and term in our data. The length of each vector would be k. We can then use these vectors to find similar words and similar documents using the cosine similarity method.\n",
        "\n",
        "We can use the truncatedSVD function to implement LSA. The n_components parameter is the number of topics we wish to extract. The model is then fit and transformed on the result given by vectorizer.\n",
        "\n",
        "Lastly note that LSA and LSI (I for indexing) are the same and the later is just sometimes used in information retrieval contexts."
      ]
    },
    {
      "cell_type": "code",
      "metadata": {
        "id": "QM7RWchEUn2i"
      },
      "source": [
        "from sklearn.decomposition import TruncatedSVD\n",
        "lsa_model = TruncatedSVD(n_components=10, algorithm='randomized', n_iter=10, random_state=42)\n",
        "\n",
        "lsa_top=lsa_model.fit_transform(vect_text)"
      ],
      "execution_count": null,
      "outputs": []
    },
    {
      "cell_type": "code",
      "metadata": {
        "colab": {
          "base_uri": "https://localhost:8080/"
        },
        "id": "rWAJoirwWFPr",
        "outputId": "70d9736b-2c74-4931-cc3f-b39a90bb58ee"
      },
      "source": [
        "print(lsa_top)\n",
        "print(lsa_top.shape)  # (no_of_doc*no_of_topics)"
      ],
      "execution_count": null,
      "outputs": [
        {
          "output_type": "stream",
          "text": [
            "[[ 0.0860048  -0.08309691 -0.04952879 ... -0.03600636 -0.07666604\n",
            "   0.04037697]\n",
            " [ 0.11800441 -0.06791489 -0.02234872 ...  0.0712249   0.02666162\n",
            "   0.06285734]\n",
            " [ 0.21519693 -0.18352517 -0.0051291  ... -0.03579993  0.09768945\n",
            "  -0.12753345]\n",
            " ...\n",
            " [ 0.0575008  -0.02167509 -0.00375395 ... -0.00685778 -0.01573627\n",
            "  -0.00693035]\n",
            " [ 0.10682528 -0.07440198 -0.03442726 ...  0.06667636  0.07815109\n",
            "  -0.07441097]\n",
            " [ 0.07141648 -0.00066281  0.02211497 ... -0.08794438 -0.02201059\n",
            "   0.01942698]]\n",
            "(45315, 10)\n"
          ],
          "name": "stdout"
        }
      ]
    },
    {
      "cell_type": "code",
      "metadata": {
        "colab": {
          "base_uri": "https://localhost:8080/"
        },
        "id": "Lib_BnCuWI_0",
        "outputId": "262ce643-007e-4aa5-cc4c-4dbbeedaab45"
      },
      "source": [
        "l=lsa_top[0]\n",
        "print(\"Tweets Document:\")\n",
        "for i,topic in enumerate(l):\n",
        "  print(\"Topic \",i,\" : \",topic*100)"
      ],
      "execution_count": null,
      "outputs": [
        {
          "output_type": "stream",
          "text": [
            "Tweets Document:\n",
            "Topic  0  :  8.600479997482813\n",
            "Topic  1  :  -8.309690571541621\n",
            "Topic  2  :  -4.952878771051929\n",
            "Topic  3  :  -0.18916705824174873\n",
            "Topic  4  :  -0.5505114270666731\n",
            "Topic  5  :  -3.171410935886523\n",
            "Topic  6  :  13.719475026029409\n",
            "Topic  7  :  -3.600635544513368\n",
            "Topic  8  :  -7.666603932814786\n",
            "Topic  9  :  4.037697134446786\n"
          ],
          "name": "stdout"
        }
      ]
    },
    {
      "cell_type": "markdown",
      "metadata": {
        "id": "SK0ElrDBWWj6"
      },
      "source": [
        "Similalry for other documents we can do this. However note that values dont add to 1 as in LSA it is not probabiltiy of a topic in a document."
      ]
    },
    {
      "cell_type": "code",
      "metadata": {
        "colab": {
          "base_uri": "https://localhost:8080/"
        },
        "id": "HZlv3ssbWQrY",
        "outputId": "f7a32a2b-4d40-431c-dd44-58b5f1ddec7c"
      },
      "source": [
        "print(lsa_model.components_.shape) # (no_of_topics*no_of_words)\n",
        "print(lsa_model.components_)"
      ],
      "execution_count": null,
      "outputs": [
        {
          "output_type": "stream",
          "text": [
            "(10, 1000)\n",
            "[[ 0.00791553  0.00710613  0.00753522 ...  0.09122192  0.02016504\n",
            "   0.00674847]\n",
            " [-0.00023255  0.00193718 -0.00283918 ... -0.01363534 -0.00303281\n",
            "   0.0010284 ]\n",
            " [-0.00173878 -0.00072143 -0.00310151 ...  0.09612276 -0.00466655\n",
            "   0.00339062]\n",
            " ...\n",
            " [ 0.00520416  0.01153464  0.00324104 ... -0.10234193  0.01099576\n",
            "  -0.00370401]\n",
            " [ 0.00151929  0.00269194  0.0008189  ... -0.09305678 -0.00350997\n",
            "   0.01128679]\n",
            " [-0.00114178  0.00645731 -0.00140898 ... -0.15005732 -0.01388518\n",
            "  -0.00255131]]\n"
          ],
          "name": "stdout"
        }
      ]
    },
    {
      "cell_type": "code",
      "metadata": {
        "colab": {
          "base_uri": "https://localhost:8080/"
        },
        "id": "yHnlzF3YWenW",
        "outputId": "da0c6ebc-a0a7-40ed-e9b5-2066c1dc2021"
      },
      "source": [
        "# most important words for each topic\n",
        "vocab = vect.get_feature_names()\n",
        "\n",
        "for i, comp in enumerate(lsa_model.components_):\n",
        "    vocab_comp = zip(vocab, comp)\n",
        "    sorted_words = sorted(vocab_comp, key= lambda x:x[1], reverse=True)[:10]\n",
        "    print(\"Topic \"+str(i)+\": \")\n",
        "    for t in sorted_words:\n",
        "        print(t[0],end=\" \")\n",
        "    print(\"\\n\")"
      ],
      "execution_count": null,
      "outputs": [
        {
          "output_type": "stream",
          "text": [
            "Topic 0: \n",
            "child marriage woman trafficking assault girls sex sexual women man \n",
            "\n",
            "Topic 1: \n",
            "marriage child marriages end forced girls married children age legal \n",
            "\n",
            "Topic 2: \n",
            "trafficking girls sex human girl underage young women forced gaetz \n",
            "\n",
            "Topic 3: \n",
            "gender violence like people envy identity want dont im trans \n",
            "\n",
            "Topic 4: \n",
            "violence chose gun domestic people today woke choose women la \n",
            "\n",
            "Topic 5: \n",
            "women girls sexual men young human victims rape many would \n",
            "\n",
            "Topic 6: \n",
            "stalking like people would dont get know man one think \n",
            "\n",
            "Topic 7: \n",
            "sex sexual forced like people men women dont work would \n",
            "\n",
            "Topic 8: \n",
            "girl human sexual men women forced trafficking rape victims charged \n",
            "\n",
            "Topic 9: \n",
            "women man sex forced men stalking charged arrested victims asian \n",
            "\n"
          ],
          "name": "stdout"
        }
      ]
    },
    {
      "cell_type": "markdown",
      "metadata": {
        "id": "OcEGH3PKW7ab"
      },
      "source": [
        "### Latent Dirichlet Allocation (LDA)\n",
        "LDA is the most popular technique.The topics then generate words based on their probability distribution. Given a dataset of documents, LDA backtracks and tries to figure out what topics would create those documents in the first place.\n",
        "\n",
        "To understand the maths it seems as if knowledge of Dirichlet distribution (distribution of distributions) is required which is quite intricate and left fior now."
      ]
    },
    {
      "cell_type": "code",
      "metadata": {
        "id": "gekuRTenWzhd"
      },
      "source": [
        "from sklearn.decomposition import LatentDirichletAllocation\n",
        "lda_model=LatentDirichletAllocation(n_components=10,learning_method='online',random_state=42,max_iter=1) \n",
        "# n_components is the number of topics"
      ],
      "execution_count": null,
      "outputs": []
    },
    {
      "cell_type": "code",
      "metadata": {
        "id": "oQOqlMYwXEE-"
      },
      "source": [
        "lda_top=lda_model.fit_transform(vect_text)"
      ],
      "execution_count": null,
      "outputs": []
    },
    {
      "cell_type": "code",
      "metadata": {
        "colab": {
          "base_uri": "https://localhost:8080/"
        },
        "id": "0lK8IU1fXHiv",
        "outputId": "bfcc6539-d243-486b-eb3a-b1b72d1a99f7"
      },
      "source": [
        "print(lda_top.shape)  # (no_of_doc,no_of_topics)\n",
        "print(lda_top)"
      ],
      "execution_count": null,
      "outputs": [
        {
          "output_type": "stream",
          "text": [
            "(45315, 10)\n",
            "[[0.02553067 0.02553075 0.02552972 ... 0.67726362 0.02553233 0.11848558]\n",
            " [0.62736278 0.02335892 0.02335781 ... 0.0233591  0.02335837 0.02341527]\n",
            " [0.02563645 0.02563931 0.02563741 ... 0.02563588 0.02563424 0.02563774]\n",
            " ...\n",
            " [0.02951366 0.16738882 0.02952507 ... 0.02951503 0.02951438 0.02951679]\n",
            " [0.03154578 0.03154633 0.03155065 ... 0.03154688 0.03154505 0.20702423]\n",
            " [0.05       0.05       0.05       ... 0.05000277 0.05       0.5499831 ]]\n"
          ],
          "name": "stdout"
        }
      ]
    },
    {
      "cell_type": "code",
      "metadata": {
        "colab": {
          "base_uri": "https://localhost:8080/"
        },
        "id": "dgny5vzWXKmm",
        "outputId": "c1eb598d-91aa-4c51-eda2-3b31316b6bc7"
      },
      "source": [
        "sum=0\n",
        "for i in lda_top[0]:\n",
        "  sum=sum+i\n",
        "print(sum) "
      ],
      "execution_count": null,
      "outputs": [
        {
          "output_type": "stream",
          "text": [
            "1.0\n"
          ],
          "name": "stdout"
        }
      ]
    },
    {
      "cell_type": "markdown",
      "metadata": {
        "id": "56-lvQPWXRaL"
      },
      "source": [
        "Note that the values in a particular row adds to 1. This is beacuse each value denotes the % of contribution of the corressponding topic in the document"
      ]
    },
    {
      "cell_type": "code",
      "metadata": {
        "colab": {
          "base_uri": "https://localhost:8080/"
        },
        "id": "C-ACcK_lXOdC",
        "outputId": "ebdee7f3-3940-406c-e741-c0f41c532d15"
      },
      "source": [
        "# composition of doc 0 for eg\n",
        "print(\"Tweets Document: \")\n",
        "for i,topic in enumerate(lda_top[0]):\n",
        "  print(\"Topic \",i,\": \",topic*100,\"%\")"
      ],
      "execution_count": null,
      "outputs": [
        {
          "output_type": "stream",
          "text": [
            "Tweets Document: \n",
            "Topic  0 :  2.55306695999713 %\n",
            "Topic  1 :  2.553074741118206 %\n",
            "Topic  2 :  2.5529717279718387 %\n",
            "Topic  3 :  2.5530731168326373 %\n",
            "Topic  4 :  2.5531989021464185 %\n",
            "Topic  5 :  2.55307188749777 %\n",
            "Topic  6 :  2.5533897574708493 %\n",
            "Topic  7 :  67.72636232260555 %\n",
            "Topic  8 :  2.553232856109943 %\n",
            "Topic  9 :  11.848557728249656 %\n"
          ],
          "name": "stdout"
        }
      ]
    },
    {
      "cell_type": "markdown",
      "metadata": {
        "id": "1PXQP2b9Xe80"
      },
      "source": [
        "As we can see Topic 7 & 11 are dominantly present in tweets document"
      ]
    },
    {
      "cell_type": "code",
      "metadata": {
        "colab": {
          "base_uri": "https://localhost:8080/"
        },
        "id": "TzIl2l6CXUlL",
        "outputId": "01ad8ee1-abe9-4bb1-e388-4ab9675eb794"
      },
      "source": [
        "print(lda_model.components_)\n",
        "print(lda_model.components_.shape)  # (no_of_topics*no_of_words)"
      ],
      "execution_count": null,
      "outputs": [
        {
          "output_type": "stream",
          "text": [
            "[[1.00018315e-01 1.00007745e-01 1.00017549e-01 ... 1.00033307e-01\n",
            "  4.82293250e+01 1.00009393e-01]\n",
            " [1.00009299e-01 2.34522705e+01 1.00016290e-01 ... 1.00026314e-01\n",
            "  1.00016164e-01 1.00018648e-01]\n",
            " [1.00019388e-01 1.00005417e-01 1.00040345e-01 ... 7.41691091e+01\n",
            "  1.00026100e-01 1.00009610e-01]\n",
            " ...\n",
            " [1.00027537e-01 1.00006315e-01 1.00014175e-01 ... 2.96068164e+01\n",
            "  1.00021904e-01 1.00005355e-01]\n",
            " [1.00034286e-01 1.00011120e-01 1.00016094e-01 ... 1.00263163e-01\n",
            "  1.34021551e+02 1.00004891e-01]\n",
            " [1.00055309e-01 1.00010905e-01 4.05097930e+01 ... 2.53999403e+02\n",
            "  1.00052161e-01 4.00662691e+01]]\n",
            "(10, 1000)\n"
          ],
          "name": "stdout"
        }
      ]
    },
    {
      "cell_type": "markdown",
      "metadata": {
        "id": "TmK_Ifx_XnIv"
      },
      "source": [
        "Most important words for a topic."
      ]
    },
    {
      "cell_type": "code",
      "metadata": {
        "colab": {
          "base_uri": "https://localhost:8080/"
        },
        "id": "jzamgSJaXkUT",
        "outputId": "3b6e2f3d-21ac-4471-99ac-b2d1aaa08b6d"
      },
      "source": [
        "# most important words for each topic\n",
        "vocab = vect.get_feature_names()\n",
        "\n",
        "for i, comp in enumerate(lda_model.components_):\n",
        "    vocab_comp = zip(vocab, comp)\n",
        "    sorted_words = sorted(vocab_comp, key= lambda x:x[1], reverse=True)[:10]\n",
        "    print(\"Topic \"+str(i)+\": \")\n",
        "    for t in sorted_words:\n",
        "        print(t[0],end=\" \")\n",
        "    print(\"\\n\")"
      ],
      "execution_count": null,
      "outputs": [
        {
          "output_type": "stream",
          "text": [
            "Topic 0: \n",
            "trafficking girls sex use girl violence read domestic bc racial \n",
            "\n",
            "Topic 1: \n",
            "la trump reveal boys via biden suspect arrested including porn \n",
            "\n",
            "Topic 2: \n",
            "violence discrimination de good israel across rights already history et \n",
            "\n",
            "Topic 3: \n",
            "gender violence identity new state race run white racism human \n",
            "\n",
            "Topic 4: \n",
            "please choose gaetz love end matt cops gender god great \n",
            "\n",
            "Topic 5: \n",
            "violence chose girls give society live let part name money \n",
            "\n",
            "Topic 6: \n",
            "today violence human little girl silent girls age crime person \n",
            "\n",
            "Topic 7: \n",
            "violence isnt called law minor came general international gender keep \n",
            "\n",
            "Topic 8: \n",
            "marriage envy based act lol trafficked etc youre child long \n",
            "\n",
            "Topic 9: \n",
            "gender violence girls like people sex dont gun underage women \n",
            "\n"
          ],
          "name": "stdout"
        }
      ]
    },
    {
      "cell_type": "markdown",
      "metadata": {
        "id": "WZiqthh_Xvt1"
      },
      "source": [
        "To better visualize words in a topic we can see the word cloud. For each topic top 50 words are plotted."
      ]
    },
    {
      "cell_type": "code",
      "metadata": {
        "id": "xbhn0KXGXpiO"
      },
      "source": [
        "from wordcloud import WordCloud\n",
        "# Generate a word cloud image for given topic\n",
        "def draw_word_cloud(index):\n",
        "  imp_words_topic=\"\"\n",
        "  comp=lda_model.components_[index]\n",
        "  vocab_comp = zip(vocab, comp)\n",
        "  sorted_words = sorted(vocab_comp, key= lambda x:x[1], reverse=True)[:50]\n",
        "  for word in sorted_words:\n",
        "    imp_words_topic=imp_words_topic+\" \"+word[0]\n",
        "\n",
        "  wordcloud = WordCloud(width=600, height=400).generate(imp_words_topic)\n",
        "  plt.figure( figsize=(5,5))\n",
        "  plt.imshow(wordcloud)\n",
        "  plt.axis(\"off\")\n",
        "  plt.tight_layout()\n",
        "  plt.show()"
      ],
      "execution_count": null,
      "outputs": []
    },
    {
      "cell_type": "code",
      "metadata": {
        "colab": {
          "base_uri": "https://localhost:8080/",
          "height": 254
        },
        "id": "LjRy6W9gXyov",
        "outputId": "a5f11700-2a33-42c2-9ca6-12c4a5209e0c"
      },
      "source": [
        "# topic 0\n",
        "draw_word_cloud(0)"
      ],
      "execution_count": null,
      "outputs": [
        {
          "output_type": "display_data",
          "data": {
            "image/png": "[encoded data removed]",
            "text/plain": [
              "<Figure size 360x360 with 1 Axes>"
            ]
          },
          "metadata": {
            "tags": []
          }
        }
      ]
    },
    {
      "cell_type": "code",
      "metadata": {
        "colab": {
          "base_uri": "https://localhost:8080/",
          "height": 254
        },
        "id": "-Fm5NpHmX2hx",
        "outputId": "e684a3db-122c-46ea-d25d-b568ba4dfc7f"
      },
      "source": [
        "# topic 1\n",
        "draw_word_cloud(1)"
      ],
      "execution_count": null,
      "outputs": [
        {
          "output_type": "display_data",
          "data": {
            "image/png": "[encoded data removed]",
            "text/plain": [
              "<Figure size 360x360 with 1 Axes>"
            ]
          },
          "metadata": {
            "tags": []
          }
        }
      ]
    },
    {
      "cell_type": "code",
      "metadata": {
        "id": "SC-r7VqMX74l"
      },
      "source": [
        ""
      ],
      "execution_count": null,
      "outputs": []
    }
  ]
}